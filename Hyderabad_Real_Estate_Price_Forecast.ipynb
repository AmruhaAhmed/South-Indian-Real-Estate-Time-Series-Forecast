{
  "nbformat": 4,
  "nbformat_minor": 0,
  "metadata": {
    "colab": {
      "provenance": []
    },
    "kernelspec": {
      "name": "python3",
      "display_name": "Python 3"
    },
    "language_info": {
      "name": "python"
    }
  },
  "cells": [
    {
      "cell_type": "code",
      "source": [
        "import pandas as pd\n",
        "import seaborn as sns\n",
        "import matplotlib.pyplot as plt\n",
        "from statsmodels.tsa.arima_model import ARIMA\n",
        "from statsmodels.graphics.tsaplots import plot_acf,plot_pacf\n",
        "import numpy as np\n",
        "from sklearn.metrics import mean_squared_error,mean_absolute_error,r2_score\n",
        "from statsmodels.tsa.arima.model import ARIMA\n",
        "!pip install pmdarima\n",
        "from pmdarima import auto_arima\n",
        "from statsmodels.tsa.stattools import adfuller"
      ],
      "metadata": {
        "id": "1P-pFxED2IxR"
      },
      "execution_count": null,
      "outputs": []
    },
    {
      "cell_type": "code",
      "source": [
        "np.random.seed(0)"
      ],
      "metadata": {
        "id": "0uyYL3LQoMtP"
      },
      "execution_count": null,
      "outputs": []
    },
    {
      "cell_type": "code",
      "source": [
        "df=pd.read_csv(\"hyd_cleaned_data.csv\")"
      ],
      "metadata": {
        "id": "28CwqybqhYO0"
      },
      "execution_count": null,
      "outputs": []
    },
    {
      "cell_type": "code",
      "source": [
        "df.dtypes"
      ],
      "metadata": {
        "colab": {
          "base_uri": "https://localhost:8080/",
          "height": 146
        },
        "id": "ZLlWEXWHh3H2",
        "outputId": "709ac9e2-5f89-44a8-d502-79411dc7b6cd"
      },
      "execution_count": null,
      "outputs": [
        {
          "output_type": "execute_result",
          "data": {
            "text/plain": [
              "Unnamed: 0     object\n",
              "Price         float64\n",
              "dtype: object"
            ],
            "text/html": [
              "<div>\n",
              "<style scoped>\n",
              "    .dataframe tbody tr th:only-of-type {\n",
              "        vertical-align: middle;\n",
              "    }\n",
              "\n",
              "    .dataframe tbody tr th {\n",
              "        vertical-align: top;\n",
              "    }\n",
              "\n",
              "    .dataframe thead th {\n",
              "        text-align: right;\n",
              "    }\n",
              "</style>\n",
              "<table border=\"1\" class=\"dataframe\">\n",
              "  <thead>\n",
              "    <tr style=\"text-align: right;\">\n",
              "      <th></th>\n",
              "      <th>0</th>\n",
              "    </tr>\n",
              "  </thead>\n",
              "  <tbody>\n",
              "    <tr>\n",
              "      <th>Unnamed: 0</th>\n",
              "      <td>object</td>\n",
              "    </tr>\n",
              "    <tr>\n",
              "      <th>Price</th>\n",
              "      <td>float64</td>\n",
              "    </tr>\n",
              "  </tbody>\n",
              "</table>\n",
              "</div><br><label><b>dtype:</b> object</label>"
            ]
          },
          "metadata": {},
          "execution_count": 649
        }
      ]
    },
    {
      "cell_type": "code",
      "source": [
        "df['Unnamed: 0']=pd.to_datetime(df['Unnamed: 0'])"
      ],
      "metadata": {
        "id": "4jr2A3cb1bw7"
      },
      "execution_count": null,
      "outputs": []
    },
    {
      "cell_type": "code",
      "source": [
        "df.dtypes"
      ],
      "metadata": {
        "colab": {
          "base_uri": "https://localhost:8080/",
          "height": 146
        },
        "id": "FZtARxO61iZy",
        "outputId": "422d3430-9283-4ef4-d166-740f0109c597"
      },
      "execution_count": null,
      "outputs": [
        {
          "output_type": "execute_result",
          "data": {
            "text/plain": [
              "Unnamed: 0    datetime64[ns]\n",
              "Price                float64\n",
              "dtype: object"
            ],
            "text/html": [
              "<div>\n",
              "<style scoped>\n",
              "    .dataframe tbody tr th:only-of-type {\n",
              "        vertical-align: middle;\n",
              "    }\n",
              "\n",
              "    .dataframe tbody tr th {\n",
              "        vertical-align: top;\n",
              "    }\n",
              "\n",
              "    .dataframe thead th {\n",
              "        text-align: right;\n",
              "    }\n",
              "</style>\n",
              "<table border=\"1\" class=\"dataframe\">\n",
              "  <thead>\n",
              "    <tr style=\"text-align: right;\">\n",
              "      <th></th>\n",
              "      <th>0</th>\n",
              "    </tr>\n",
              "  </thead>\n",
              "  <tbody>\n",
              "    <tr>\n",
              "      <th>Unnamed: 0</th>\n",
              "      <td>datetime64[ns]</td>\n",
              "    </tr>\n",
              "    <tr>\n",
              "      <th>Price</th>\n",
              "      <td>float64</td>\n",
              "    </tr>\n",
              "  </tbody>\n",
              "</table>\n",
              "</div><br><label><b>dtype:</b> object</label>"
            ]
          },
          "metadata": {},
          "execution_count": 651
        }
      ]
    },
    {
      "cell_type": "code",
      "source": [
        "df.set_index('Unnamed: 0',inplace=True)"
      ],
      "metadata": {
        "id": "v_pxBOKdiEeV"
      },
      "execution_count": null,
      "outputs": []
    },
    {
      "cell_type": "code",
      "source": [
        "df.head()"
      ],
      "metadata": {
        "colab": {
          "base_uri": "https://localhost:8080/",
          "height": 237
        },
        "id": "JJd8ibV-iNDX",
        "outputId": "cf0f7abe-5146-4d75-b814-6f04a6cc9fea"
      },
      "execution_count": null,
      "outputs": [
        {
          "output_type": "execute_result",
          "data": {
            "text/plain": [
              "                Price\n",
              "Unnamed: 0           \n",
              "2024-01-01  1360000.0\n",
              "2024-01-02  9200000.0\n",
              "2024-01-03  6700000.0\n",
              "2024-01-04  1650000.0\n",
              "2024-01-05  2680000.0"
            ],
            "text/html": [
              "\n",
              "  <div id=\"df-8ec1e896-a543-4ff6-8485-e80c9c65bd13\" class=\"colab-df-container\">\n",
              "    <div>\n",
              "<style scoped>\n",
              "    .dataframe tbody tr th:only-of-type {\n",
              "        vertical-align: middle;\n",
              "    }\n",
              "\n",
              "    .dataframe tbody tr th {\n",
              "        vertical-align: top;\n",
              "    }\n",
              "\n",
              "    .dataframe thead th {\n",
              "        text-align: right;\n",
              "    }\n",
              "</style>\n",
              "<table border=\"1\" class=\"dataframe\">\n",
              "  <thead>\n",
              "    <tr style=\"text-align: right;\">\n",
              "      <th></th>\n",
              "      <th>Price</th>\n",
              "    </tr>\n",
              "    <tr>\n",
              "      <th>Unnamed: 0</th>\n",
              "      <th></th>\n",
              "    </tr>\n",
              "  </thead>\n",
              "  <tbody>\n",
              "    <tr>\n",
              "      <th>2024-01-01</th>\n",
              "      <td>1360000.0</td>\n",
              "    </tr>\n",
              "    <tr>\n",
              "      <th>2024-01-02</th>\n",
              "      <td>9200000.0</td>\n",
              "    </tr>\n",
              "    <tr>\n",
              "      <th>2024-01-03</th>\n",
              "      <td>6700000.0</td>\n",
              "    </tr>\n",
              "    <tr>\n",
              "      <th>2024-01-04</th>\n",
              "      <td>1650000.0</td>\n",
              "    </tr>\n",
              "    <tr>\n",
              "      <th>2024-01-05</th>\n",
              "      <td>2680000.0</td>\n",
              "    </tr>\n",
              "  </tbody>\n",
              "</table>\n",
              "</div>\n",
              "    <div class=\"colab-df-buttons\">\n",
              "\n",
              "  <div class=\"colab-df-container\">\n",
              "    <button class=\"colab-df-convert\" onclick=\"convertToInteractive('df-8ec1e896-a543-4ff6-8485-e80c9c65bd13')\"\n",
              "            title=\"Convert this dataframe to an interactive table.\"\n",
              "            style=\"display:none;\">\n",
              "\n",
              "  <svg xmlns=\"http://www.w3.org/2000/svg\" height=\"24px\" viewBox=\"0 -960 960 960\">\n",
              "    <path d=\"M120-120v-720h720v720H120Zm60-500h600v-160H180v160Zm220 220h160v-160H400v160Zm0 220h160v-160H400v160ZM180-400h160v-160H180v160Zm440 0h160v-160H620v160ZM180-180h160v-160H180v160Zm440 0h160v-160H620v160Z\"/>\n",
              "  </svg>\n",
              "    </button>\n",
              "\n",
              "  <style>\n",
              "    .colab-df-container {\n",
              "      display:flex;\n",
              "      gap: 12px;\n",
              "    }\n",
              "\n",
              "    .colab-df-convert {\n",
              "      background-color: #E8F0FE;\n",
              "      border: none;\n",
              "      border-radius: 50%;\n",
              "      cursor: pointer;\n",
              "      display: none;\n",
              "      fill: #1967D2;\n",
              "      height: 32px;\n",
              "      padding: 0 0 0 0;\n",
              "      width: 32px;\n",
              "    }\n",
              "\n",
              "    .colab-df-convert:hover {\n",
              "      background-color: #E2EBFA;\n",
              "      box-shadow: 0px 1px 2px rgba(60, 64, 67, 0.3), 0px 1px 3px 1px rgba(60, 64, 67, 0.15);\n",
              "      fill: #174EA6;\n",
              "    }\n",
              "\n",
              "    .colab-df-buttons div {\n",
              "      margin-bottom: 4px;\n",
              "    }\n",
              "\n",
              "    [theme=dark] .colab-df-convert {\n",
              "      background-color: #3B4455;\n",
              "      fill: #D2E3FC;\n",
              "    }\n",
              "\n",
              "    [theme=dark] .colab-df-convert:hover {\n",
              "      background-color: #434B5C;\n",
              "      box-shadow: 0px 1px 3px 1px rgba(0, 0, 0, 0.15);\n",
              "      filter: drop-shadow(0px 1px 2px rgba(0, 0, 0, 0.3));\n",
              "      fill: #FFFFFF;\n",
              "    }\n",
              "  </style>\n",
              "\n",
              "    <script>\n",
              "      const buttonEl =\n",
              "        document.querySelector('#df-8ec1e896-a543-4ff6-8485-e80c9c65bd13 button.colab-df-convert');\n",
              "      buttonEl.style.display =\n",
              "        google.colab.kernel.accessAllowed ? 'block' : 'none';\n",
              "\n",
              "      async function convertToInteractive(key) {\n",
              "        const element = document.querySelector('#df-8ec1e896-a543-4ff6-8485-e80c9c65bd13');\n",
              "        const dataTable =\n",
              "          await google.colab.kernel.invokeFunction('convertToInteractive',\n",
              "                                                    [key], {});\n",
              "        if (!dataTable) return;\n",
              "\n",
              "        const docLinkHtml = 'Like what you see? Visit the ' +\n",
              "          '<a target=\"_blank\" href=https://colab.research.google.com/notebooks/data_table.ipynb>data table notebook</a>'\n",
              "          + ' to learn more about interactive tables.';\n",
              "        element.innerHTML = '';\n",
              "        dataTable['output_type'] = 'display_data';\n",
              "        await google.colab.output.renderOutput(dataTable, element);\n",
              "        const docLink = document.createElement('div');\n",
              "        docLink.innerHTML = docLinkHtml;\n",
              "        element.appendChild(docLink);\n",
              "      }\n",
              "    </script>\n",
              "  </div>\n",
              "\n",
              "\n",
              "<div id=\"df-8343acf8-d747-4e0b-b78d-50710eebc4e3\">\n",
              "  <button class=\"colab-df-quickchart\" onclick=\"quickchart('df-8343acf8-d747-4e0b-b78d-50710eebc4e3')\"\n",
              "            title=\"Suggest charts\"\n",
              "            style=\"display:none;\">\n",
              "\n",
              "<svg xmlns=\"http://www.w3.org/2000/svg\" height=\"24px\"viewBox=\"0 0 24 24\"\n",
              "     width=\"24px\">\n",
              "    <g>\n",
              "        <path d=\"M19 3H5c-1.1 0-2 .9-2 2v14c0 1.1.9 2 2 2h14c1.1 0 2-.9 2-2V5c0-1.1-.9-2-2-2zM9 17H7v-7h2v7zm4 0h-2V7h2v10zm4 0h-2v-4h2v4z\"/>\n",
              "    </g>\n",
              "</svg>\n",
              "  </button>\n",
              "\n",
              "<style>\n",
              "  .colab-df-quickchart {\n",
              "      --bg-color: #E8F0FE;\n",
              "      --fill-color: #1967D2;\n",
              "      --hover-bg-color: #E2EBFA;\n",
              "      --hover-fill-color: #174EA6;\n",
              "      --disabled-fill-color: #AAA;\n",
              "      --disabled-bg-color: #DDD;\n",
              "  }\n",
              "\n",
              "  [theme=dark] .colab-df-quickchart {\n",
              "      --bg-color: #3B4455;\n",
              "      --fill-color: #D2E3FC;\n",
              "      --hover-bg-color: #434B5C;\n",
              "      --hover-fill-color: #FFFFFF;\n",
              "      --disabled-bg-color: #3B4455;\n",
              "      --disabled-fill-color: #666;\n",
              "  }\n",
              "\n",
              "  .colab-df-quickchart {\n",
              "    background-color: var(--bg-color);\n",
              "    border: none;\n",
              "    border-radius: 50%;\n",
              "    cursor: pointer;\n",
              "    display: none;\n",
              "    fill: var(--fill-color);\n",
              "    height: 32px;\n",
              "    padding: 0;\n",
              "    width: 32px;\n",
              "  }\n",
              "\n",
              "  .colab-df-quickchart:hover {\n",
              "    background-color: var(--hover-bg-color);\n",
              "    box-shadow: 0 1px 2px rgba(60, 64, 67, 0.3), 0 1px 3px 1px rgba(60, 64, 67, 0.15);\n",
              "    fill: var(--button-hover-fill-color);\n",
              "  }\n",
              "\n",
              "  .colab-df-quickchart-complete:disabled,\n",
              "  .colab-df-quickchart-complete:disabled:hover {\n",
              "    background-color: var(--disabled-bg-color);\n",
              "    fill: var(--disabled-fill-color);\n",
              "    box-shadow: none;\n",
              "  }\n",
              "\n",
              "  .colab-df-spinner {\n",
              "    border: 2px solid var(--fill-color);\n",
              "    border-color: transparent;\n",
              "    border-bottom-color: var(--fill-color);\n",
              "    animation:\n",
              "      spin 1s steps(1) infinite;\n",
              "  }\n",
              "\n",
              "  @keyframes spin {\n",
              "    0% {\n",
              "      border-color: transparent;\n",
              "      border-bottom-color: var(--fill-color);\n",
              "      border-left-color: var(--fill-color);\n",
              "    }\n",
              "    20% {\n",
              "      border-color: transparent;\n",
              "      border-left-color: var(--fill-color);\n",
              "      border-top-color: var(--fill-color);\n",
              "    }\n",
              "    30% {\n",
              "      border-color: transparent;\n",
              "      border-left-color: var(--fill-color);\n",
              "      border-top-color: var(--fill-color);\n",
              "      border-right-color: var(--fill-color);\n",
              "    }\n",
              "    40% {\n",
              "      border-color: transparent;\n",
              "      border-right-color: var(--fill-color);\n",
              "      border-top-color: var(--fill-color);\n",
              "    }\n",
              "    60% {\n",
              "      border-color: transparent;\n",
              "      border-right-color: var(--fill-color);\n",
              "    }\n",
              "    80% {\n",
              "      border-color: transparent;\n",
              "      border-right-color: var(--fill-color);\n",
              "      border-bottom-color: var(--fill-color);\n",
              "    }\n",
              "    90% {\n",
              "      border-color: transparent;\n",
              "      border-bottom-color: var(--fill-color);\n",
              "    }\n",
              "  }\n",
              "</style>\n",
              "\n",
              "  <script>\n",
              "    async function quickchart(key) {\n",
              "      const quickchartButtonEl =\n",
              "        document.querySelector('#' + key + ' button');\n",
              "      quickchartButtonEl.disabled = true;  // To prevent multiple clicks.\n",
              "      quickchartButtonEl.classList.add('colab-df-spinner');\n",
              "      try {\n",
              "        const charts = await google.colab.kernel.invokeFunction(\n",
              "            'suggestCharts', [key], {});\n",
              "      } catch (error) {\n",
              "        console.error('Error during call to suggestCharts:', error);\n",
              "      }\n",
              "      quickchartButtonEl.classList.remove('colab-df-spinner');\n",
              "      quickchartButtonEl.classList.add('colab-df-quickchart-complete');\n",
              "    }\n",
              "    (() => {\n",
              "      let quickchartButtonEl =\n",
              "        document.querySelector('#df-8343acf8-d747-4e0b-b78d-50710eebc4e3 button');\n",
              "      quickchartButtonEl.style.display =\n",
              "        google.colab.kernel.accessAllowed ? 'block' : 'none';\n",
              "    })();\n",
              "  </script>\n",
              "</div>\n",
              "\n",
              "    </div>\n",
              "  </div>\n"
            ],
            "application/vnd.google.colaboratory.intrinsic+json": {
              "type": "dataframe",
              "variable_name": "df",
              "summary": "{\n  \"name\": \"df\",\n  \"rows\": 366,\n  \"fields\": [\n    {\n      \"column\": \"Unnamed: 0\",\n      \"properties\": {\n        \"dtype\": \"date\",\n        \"min\": \"2024-01-01 00:00:00\",\n        \"max\": \"2024-12-31 00:00:00\",\n        \"num_unique_values\": 366,\n        \"samples\": [\n          \"2024-07-12 00:00:00\",\n          \"2024-02-03 00:00:00\",\n          \"2024-01-16 00:00:00\"\n        ],\n        \"semantic_type\": \"\",\n        \"description\": \"\"\n      }\n    },\n    {\n      \"column\": \"Price\",\n      \"properties\": {\n        \"dtype\": \"number\",\n        \"std\": 2848369.851819711,\n        \"min\": 1000000.0,\n        \"max\": 21500000.0,\n        \"num_unique_values\": 144,\n        \"samples\": [\n          1280000.0,\n          1400000.0,\n          7900000.0\n        ],\n        \"semantic_type\": \"\",\n        \"description\": \"\"\n      }\n    }\n  ]\n}"
            }
          },
          "metadata": {},
          "execution_count": 653
        }
      ]
    },
    {
      "cell_type": "code",
      "source": [
        "df.shape"
      ],
      "metadata": {
        "colab": {
          "base_uri": "https://localhost:8080/"
        },
        "id": "rKpXEuK_hIGn",
        "outputId": "54f6851b-18a4-4950-c6c2-f87a1ad53dbf"
      },
      "execution_count": null,
      "outputs": [
        {
          "output_type": "execute_result",
          "data": {
            "text/plain": [
              "(366, 1)"
            ]
          },
          "metadata": {},
          "execution_count": 654
        }
      ]
    },
    {
      "cell_type": "code",
      "source": [
        "def stationary_test(dataframe,column):\n",
        "  dataframe['rolling_mean']=dataframe[column].rolling(window=12).mean().shift(1)\n",
        "  dataframe['rolling_std']=dataframe[column].rolling(window=12).std().shift(1)\n",
        "  adftest=adfuller(dataframe[column],autolag=None)\n",
        "  stats=pd.Series(adftest[0:4],index=['Test Statistic','p-value','Lags Used','Number of Observations Used'])\n",
        "  print(stats)\n",
        "  for key,value in adftest[4].items():\n",
        "    print('\\n Critical Values:')\n",
        "    print(f'   {key}, {value}')\n",
        "  dataframe.dropna(inplace=True)\n",
        "  sns.lineplot(data=dataframe.dropna(),x=dataframe.index,y=column)\n",
        "  sns.lineplot(data=dataframe.dropna(),x=dataframe.index,y='rolling_mean')\n",
        "  sns.lineplot(data=dataframe.dropna(),x=dataframe.index,y='rolling_std')\n",
        "  plt.xticks(rotation=90)\n",
        "  plt.legend()"
      ],
      "metadata": {
        "id": "lQSotDOi8jB-"
      },
      "execution_count": null,
      "outputs": []
    },
    {
      "cell_type": "code",
      "source": [
        "stationary_test(df,'Price')"
      ],
      "metadata": {
        "id": "7GKCCV5D8nII"
      },
      "execution_count": null,
      "outputs": []
    },
    {
      "cell_type": "code",
      "source": [
        "df1=df.copy()\n",
        "df1['Price_Diff']=df1['Price']-df1['Price'].shift(1)\n",
        "df1.dropna(inplace=True)\n",
        "stationary_test(df1,'Price_Diff')"
      ],
      "metadata": {
        "id": "edpkvxW08o3X"
      },
      "execution_count": null,
      "outputs": []
    },
    {
      "cell_type": "code",
      "source": [
        "df2=df.copy()\n",
        "df2['Price_Log']=np.log(df2['Price'])\n",
        "df2.dropna(inplace=True)\n",
        "stationary_test(df2,'Price_Log')"
      ],
      "metadata": {
        "id": "MjEvH6p38v-h"
      },
      "execution_count": null,
      "outputs": []
    },
    {
      "cell_type": "code",
      "source": [
        "df3=df.copy()\n",
        "df3['Price_Sqrt']=np.sqrt(df3['Price'])\n",
        "df3.dropna(inplace=True)\n",
        "stationary_test(df3,'Price_Sqrt')"
      ],
      "metadata": {
        "id": "gVE5fG6L8xzG"
      },
      "execution_count": null,
      "outputs": []
    },
    {
      "cell_type": "code",
      "source": [
        "df4=df.copy()\n",
        "df4['Price_Sqrt']=np.cbrt(df4['Price'])\n",
        "df4.dropna(inplace=True)\n",
        "stationary_test(df4,'Price_Sqrt')"
      ],
      "metadata": {
        "id": "6gb8RsM_83w5"
      },
      "execution_count": null,
      "outputs": []
    },
    {
      "cell_type": "code",
      "source": [
        "df5=df.copy()\n",
        "df5['Price_Log']=np.log(df5['Price'])\n",
        "df5['Price_Log_Sqrt']=np.sqrt(df5['Price_Log'])\n",
        "df5.dropna(inplace=True)\n",
        "stationary_test(df5,'Price_Log_Sqrt')"
      ],
      "metadata": {
        "id": "IUHDPKgE88gc"
      },
      "execution_count": null,
      "outputs": []
    },
    {
      "cell_type": "code",
      "source": [
        "df6=df.copy()\n",
        "df6['Price_Log']=np.log(df6['Price'])\n",
        "df6['Price_Log_Shift']=df6['Price_Log']-df6['Price_Log'].shift(1)\n",
        "df6.dropna(inplace=True)\n",
        "stationary_test(df6,'Price_Log_Shift')"
      ],
      "metadata": {
        "id": "VGmRtJ-09Jw0"
      },
      "execution_count": null,
      "outputs": []
    },
    {
      "cell_type": "code",
      "source": [
        "df7=df.copy()\n",
        "df7['Price_Log']=np.log(df7['Price'])\n",
        "df7['Price_Log_Cbrt']=np.cbrt(df7['Price_Log'])\n",
        "df7.dropna(inplace=True)\n",
        "stationary_test(df7,'Price_Log_Cbrt')"
      ],
      "metadata": {
        "id": "xRhaWtGj9PUq"
      },
      "execution_count": null,
      "outputs": []
    },
    {
      "cell_type": "code",
      "source": [
        "df12=df.copy()\n",
        "df12['Price_Sqrt']=np.sqrt(df12['Price'])\n",
        "df12['Price_Sqrt_Log']=np.log(df12['Price_Sqrt'])\n",
        "df12.dropna(inplace=True)\n",
        "stationary_test(df12,'Price_Sqrt_Log')"
      ],
      "metadata": {
        "id": "e69_DgHm9YF-"
      },
      "execution_count": null,
      "outputs": []
    },
    {
      "cell_type": "code",
      "source": [
        "df13=df.copy()\n",
        "df13['Price_Cbrt']=np.cbrt(df13['Price'])\n",
        "df13['Price_Cbrt_Log']=np.log(df13['Price_Cbrt'])\n",
        "df13.dropna(inplace=True)\n",
        "stationary_test(df13,'Price_Cbrt_Log')"
      ],
      "metadata": {
        "id": "MOoSde3A9afs"
      },
      "execution_count": null,
      "outputs": []
    },
    {
      "cell_type": "code",
      "source": [
        "\n",
        "df_model=df.copy()\n",
        "df_model['Price_Diff']=df_model['Price']-df_model['Price'].shift(1)\n",
        "df_model['Price_Log']=np.log(df_model['Price'])\n",
        "df_model['Price_Sqrt']=np.sqrt(df_model['Price'])\n",
        "df_model['Price_Cbrt']=np.cbrt(df_model['Price'])\n",
        "df_model['Price_Log_Sqrt']=np.sqrt(df_model['Price_Log'])\n",
        "df_model['Price_Log_Shift']=df_model['Price_Log']-df_model['Price_Log'].shift(1)\n",
        "df_model['Price_Log_Cbrt']=np.cbrt(df_model['Price_Log'])\n",
        "df_model['Price_Detrend']=df_model['Price']-df_model['Price'].mean()\n",
        "df_model['Price_Log_Detrend']=df_model['Price_Log']-df_model['Price_Log'].mean()\n",
        "df_model['Price_Sqrt_Detrend']=df_model['Price_Sqrt']-df_model['Price_Sqrt'].mean()\n",
        "df_model['Price_Cbrt_Detrend']=df_model['Price_Cbrt']-df_model['Price_Cbrt'].mean()\n",
        "df_model['Price_Sqrt_Log']=np.log(df_model['Price_Sqrt'])\n",
        "df_model['Price_Cbrt_Log']=np.log(df_model['Price_Cbrt'])\n",
        "df_model.dropna(inplace=True)\n"
      ],
      "metadata": {
        "id": "x4rzPplUheaq"
      },
      "execution_count": null,
      "outputs": []
    },
    {
      "cell_type": "code",
      "source": [
        "sns.lineplot(x=df.index,y=df['Price'])\n",
        "plt.xticks(rotation=90)"
      ],
      "metadata": {
        "id": "JRyD7e7-8WiN"
      },
      "execution_count": null,
      "outputs": []
    },
    {
      "cell_type": "code",
      "source": [
        "train=df_model.iloc[:293]\n",
        "test=df_model.iloc[293:]"
      ],
      "metadata": {
        "id": "IDKaG_i9kkGH"
      },
      "execution_count": null,
      "outputs": []
    },
    {
      "cell_type": "code",
      "source": [
        "model = auto_arima(df_model['Price_Diff'].dropna(), seasonal=False, trace=True,stepwise=False)\n",
        "model=model.fit(df_model['Price_Diff'].dropna())"
      ],
      "metadata": {
        "colab": {
          "base_uri": "https://localhost:8080/"
        },
        "id": "SX3Llzdq0kbj",
        "outputId": "480e5626-bda1-4ae3-9a7a-6760cc851bd5"
      },
      "execution_count": null,
      "outputs": [
        {
          "output_type": "stream",
          "name": "stdout",
          "text": [
            " ARIMA(0,0,0)(0,0,0)[0]             : AIC=12123.832, Time=0.03 sec\n",
            " ARIMA(0,0,1)(0,0,0)[0]             : AIC=inf, Time=0.17 sec\n",
            " ARIMA(0,0,2)(0,0,0)[0]             : AIC=inf, Time=0.18 sec\n",
            " ARIMA(0,0,3)(0,0,0)[0]             : AIC=inf, Time=0.24 sec\n",
            " ARIMA(0,0,4)(0,0,0)[0]             : AIC=inf, Time=0.36 sec\n",
            " ARIMA(0,0,5)(0,0,0)[0]             : AIC=inf, Time=0.52 sec\n",
            " ARIMA(1,0,0)(0,0,0)[0]             : AIC=12039.046, Time=0.04 sec\n",
            " ARIMA(1,0,1)(0,0,0)[0]             : AIC=inf, Time=0.18 sec\n",
            " ARIMA(1,0,2)(0,0,0)[0]             : AIC=inf, Time=0.40 sec\n",
            " ARIMA(1,0,3)(0,0,0)[0]             : AIC=inf, Time=0.27 sec\n",
            " ARIMA(1,0,4)(0,0,0)[0]             : AIC=inf, Time=0.47 sec\n",
            " ARIMA(2,0,0)(0,0,0)[0]             : AIC=11997.601, Time=0.04 sec\n",
            " ARIMA(2,0,1)(0,0,0)[0]             : AIC=inf, Time=0.24 sec\n",
            " ARIMA(2,0,2)(0,0,0)[0]             : AIC=inf, Time=0.53 sec\n",
            " ARIMA(2,0,3)(0,0,0)[0]             : AIC=inf, Time=3.66 sec\n",
            " ARIMA(3,0,0)(0,0,0)[0]             : AIC=11979.036, Time=0.08 sec\n",
            " ARIMA(3,0,1)(0,0,0)[0]             : AIC=inf, Time=0.39 sec\n",
            " ARIMA(3,0,2)(0,0,0)[0]             : AIC=inf, Time=0.36 sec\n",
            " ARIMA(4,0,0)(0,0,0)[0]             : AIC=11972.274, Time=0.07 sec\n",
            " ARIMA(4,0,1)(0,0,0)[0]             : AIC=inf, Time=0.43 sec\n",
            " ARIMA(5,0,0)(0,0,0)[0]             : AIC=11964.405, Time=0.08 sec\n",
            "\n",
            "Best model:  ARIMA(5,0,0)(0,0,0)[0]          \n",
            "Total fit time: 8.771 seconds\n"
          ]
        }
      ]
    },
    {
      "cell_type": "code",
      "source": [
        "model1=ARIMA(train['Price_Diff'].dropna(),order=(5,0,0))\n",
        "model1=model1.fit()\n",
        "arima_pred=model1.predict(start=len(train),end=len(train)+len(test)-1)\n",
        "test['arimaPred1']=arima_pred.values"
      ],
      "metadata": {
        "colab": {
          "base_uri": "https://localhost:8080/"
        },
        "id": "4DR4iYqb0mtJ",
        "outputId": "ead77888-5229-4d8d-e92b-d9e0f8f46a9e"
      },
      "execution_count": null,
      "outputs": [
        {
          "output_type": "stream",
          "name": "stderr",
          "text": [
            "/usr/local/lib/python3.10/dist-packages/statsmodels/tsa/base/tsa_model.py:473: ValueWarning: No frequency information was provided, so inferred frequency D will be used.\n",
            "  self._init_dates(dates, freq)\n",
            "/usr/local/lib/python3.10/dist-packages/statsmodels/tsa/base/tsa_model.py:473: ValueWarning: No frequency information was provided, so inferred frequency D will be used.\n",
            "  self._init_dates(dates, freq)\n",
            "/usr/local/lib/python3.10/dist-packages/statsmodels/tsa/base/tsa_model.py:473: ValueWarning: No frequency information was provided, so inferred frequency D will be used.\n",
            "  self._init_dates(dates, freq)\n",
            "<ipython-input-658-8e5c797c2285>:4: SettingWithCopyWarning: \n",
            "A value is trying to be set on a copy of a slice from a DataFrame.\n",
            "Try using .loc[row_indexer,col_indexer] = value instead\n",
            "\n",
            "See the caveats in the documentation: https://pandas.pydata.org/pandas-docs/stable/user_guide/indexing.html#returning-a-view-versus-a-copy\n",
            "  test['arimaPred1']=arima_pred.values\n"
          ]
        }
      ]
    },
    {
      "cell_type": "code",
      "source": [
        "mae = mean_absolute_error(test['Price_Diff'], test['arimaPred1'])\n",
        "mse = mean_squared_error(test['Price_Diff'], test['arimaPred1'])\n",
        "rmse = np.sqrt(mse)\n",
        "aic=model1.aic\n",
        "bic=model1.bic\n",
        "print(\"MAE {} MSE {} RMSE {}  AIC {} BIC {}\".format(mae,mse,rmse,aic,bic))"
      ],
      "metadata": {
        "colab": {
          "base_uri": "https://localhost:8080/"
        },
        "id": "zjHikyt2IXfw",
        "outputId": "4f07d39b-4fe9-424a-831a-c9dfd0b6ad51"
      },
      "execution_count": null,
      "outputs": [
        {
          "output_type": "stream",
          "name": "stdout",
          "text": [
            "MAE 2752510.98627338 MSE 12211050709814.648 RMSE 3494431.385764306  AIC 9611.623076602289 BIC 9637.38428486541\n"
          ]
        }
      ]
    },
    {
      "cell_type": "code",
      "source": [
        "model1=ARIMA(df_model['Price_Diff'].dropna(),order=(5,0,0))\n",
        "model1=model1.fit()\n",
        "forecast_steps=365\n",
        "predictions=model1.forecast(steps=forecast_steps)\n",
        "future_dates = pd.date_range(start='2025-01-01', periods=forecast_steps, freq='D')\n",
        "last_known_price = df_model['Price'].iloc[-1]\n",
        "predicted_prices = []\n",
        "for pred in predictions.values:\n",
        "    last_known_price += pred\n",
        "    predicted_prices.append(last_known_price)\n"
      ],
      "metadata": {
        "id": "WTzny4Zb0ov-",
        "colab": {
          "base_uri": "https://localhost:8080/"
        },
        "outputId": "159d38cc-0449-4a6e-f836-a7d791336e0d"
      },
      "execution_count": null,
      "outputs": [
        {
          "output_type": "stream",
          "name": "stderr",
          "text": [
            "/usr/local/lib/python3.10/dist-packages/statsmodels/tsa/base/tsa_model.py:473: ValueWarning: No frequency information was provided, so inferred frequency D will be used.\n",
            "  self._init_dates(dates, freq)\n",
            "/usr/local/lib/python3.10/dist-packages/statsmodels/tsa/base/tsa_model.py:473: ValueWarning: No frequency information was provided, so inferred frequency D will be used.\n",
            "  self._init_dates(dates, freq)\n",
            "/usr/local/lib/python3.10/dist-packages/statsmodels/tsa/base/tsa_model.py:473: ValueWarning: No frequency information was provided, so inferred frequency D will be used.\n",
            "  self._init_dates(dates, freq)\n"
          ]
        }
      ]
    },
    {
      "cell_type": "code",
      "source": [
        "plt.plot(df_model.index, df_model['Price'], label='Actual Data',color=\"black\")\n",
        "plt.plot(future_dates, predicted_prices, label='Predictions',color=\"red\")\n",
        "plt.xticks(rotation=45)\n",
        "plt.xlabel(\"Date\")\n",
        "plt.ylabel(\"Price\")\n",
        "plt.legend()\n",
        "plt.show()"
      ],
      "metadata": {
        "colab": {
          "base_uri": "https://localhost:8080/",
          "height": 501
        },
        "id": "_UkNqJYn01ps",
        "outputId": "f03e7fb9-059e-40d4-befd-c3c515c2696a"
      },
      "execution_count": null,
      "outputs": [
        {
          "output_type": "display_data",
          "data": {
            "text/plain": [
              "<Figure size 640x480 with 1 Axes>"
            ],
            "image/png": "[encoded data removed]"
          },
          "metadata": {}
        }
      ]
    },
    {
      "cell_type": "code",
      "source": [
        "model = auto_arima(df_model['Price_Log'].dropna(), seasonal=False, trace=True,stepwise=False)\n",
        "model=model.fit(df_model['Price_Log'].dropna())"
      ],
      "metadata": {
        "colab": {
          "base_uri": "https://localhost:8080/"
        },
        "id": "XbeV9xnElK45",
        "outputId": "7fff574a-d0a1-4481-fbbd-39de4e6fde6c"
      },
      "execution_count": null,
      "outputs": [
        {
          "output_type": "stream",
          "name": "stdout",
          "text": [
            " ARIMA(0,0,0)(0,0,0)[0]             : AIC=3023.570, Time=0.02 sec\n",
            " ARIMA(0,0,1)(0,0,0)[0]             : AIC=2555.143, Time=0.09 sec\n",
            " ARIMA(0,0,2)(0,0,0)[0]             : AIC=2215.482, Time=0.24 sec\n",
            " ARIMA(0,0,3)(0,0,0)[0]             : AIC=1986.885, Time=0.31 sec\n",
            " ARIMA(0,0,4)(0,0,0)[0]             : AIC=1825.596, Time=0.60 sec\n",
            " ARIMA(0,0,5)(0,0,0)[0]             : AIC=1686.041, Time=0.67 sec\n",
            " ARIMA(1,0,0)(0,0,0)[0]             : AIC=inf, Time=0.07 sec\n",
            " ARIMA(1,0,1)(0,0,0)[0]             : AIC=inf, Time=0.45 sec\n",
            " ARIMA(1,0,2)(0,0,0)[0]             : AIC=inf, Time=0.63 sec\n",
            " ARIMA(1,0,3)(0,0,0)[0]             : AIC=inf, Time=0.57 sec\n",
            " ARIMA(1,0,4)(0,0,0)[0]             : AIC=inf, Time=0.86 sec\n",
            " ARIMA(2,0,0)(0,0,0)[0]             : AIC=inf, Time=0.09 sec\n",
            " ARIMA(2,0,1)(0,0,0)[0]             : AIC=inf, Time=0.49 sec\n",
            " ARIMA(2,0,2)(0,0,0)[0]             : AIC=inf, Time=0.72 sec\n",
            " ARIMA(2,0,3)(0,0,0)[0]             : AIC=inf, Time=1.19 sec\n",
            " ARIMA(3,0,0)(0,0,0)[0]             : AIC=inf, Time=0.06 sec\n",
            " ARIMA(3,0,1)(0,0,0)[0]             : AIC=inf, Time=0.89 sec\n",
            " ARIMA(3,0,2)(0,0,0)[0]             : AIC=inf, Time=2.68 sec\n",
            " ARIMA(4,0,0)(0,0,0)[0]             : AIC=inf, Time=0.45 sec\n",
            " ARIMA(4,0,1)(0,0,0)[0]             : AIC=inf, Time=1.01 sec\n",
            " ARIMA(5,0,0)(0,0,0)[0]             : AIC=inf, Time=0.27 sec\n",
            "\n",
            "Best model:  ARIMA(0,0,5)(0,0,0)[0]          \n",
            "Total fit time: 12.417 seconds\n"
          ]
        }
      ]
    },
    {
      "cell_type": "code",
      "source": [
        "model2 = ARIMA(train['Price_Log'].dropna(), order=(0,0,5))\n",
        "model2 = model2.fit()\n",
        "arima_pred = model2.predict(start=len(train), end=len(train) + len(test) - 1)\n",
        "test['arimaPred2'] = arima_pred.values"
      ],
      "metadata": {
        "colab": {
          "base_uri": "https://localhost:8080/"
        },
        "id": "CuiQsVKAlN5W",
        "outputId": "d8858b95-43a1-4d7c-ccbb-0719a80b7362"
      },
      "execution_count": null,
      "outputs": [
        {
          "output_type": "stream",
          "name": "stderr",
          "text": [
            "/usr/local/lib/python3.10/dist-packages/statsmodels/tsa/base/tsa_model.py:473: ValueWarning: No frequency information was provided, so inferred frequency D will be used.\n",
            "  self._init_dates(dates, freq)\n",
            "/usr/local/lib/python3.10/dist-packages/statsmodels/tsa/base/tsa_model.py:473: ValueWarning: No frequency information was provided, so inferred frequency D will be used.\n",
            "  self._init_dates(dates, freq)\n",
            "/usr/local/lib/python3.10/dist-packages/statsmodels/tsa/base/tsa_model.py:473: ValueWarning: No frequency information was provided, so inferred frequency D will be used.\n",
            "  self._init_dates(dates, freq)\n",
            "<ipython-input-663-6407c375e095>:4: SettingWithCopyWarning: \n",
            "A value is trying to be set on a copy of a slice from a DataFrame.\n",
            "Try using .loc[row_indexer,col_indexer] = value instead\n",
            "\n",
            "See the caveats in the documentation: https://pandas.pydata.org/pandas-docs/stable/user_guide/indexing.html#returning-a-view-versus-a-copy\n",
            "  test['arimaPred2'] = arima_pred.values\n"
          ]
        }
      ]
    },
    {
      "cell_type": "code",
      "source": [
        "mae = mean_absolute_error(test['Price_Log'], test['arimaPred2'])\n",
        "mse = mean_squared_error(test['Price_Log'], test['arimaPred2'])\n",
        "rmse = np.sqrt(mse)\n",
        "aic=model2.aic\n",
        "bic=model2.bic\n",
        "print(\"MAE {} MSE {} RMSE {} AIC {} BIC {}\".format(mae,mse,rmse,aic,bic))"
      ],
      "metadata": {
        "colab": {
          "base_uri": "https://localhost:8080/"
        },
        "id": "BUrYamEOLYQA",
        "outputId": "e821257f-70a7-430c-fc0d-7bebb343b636"
      },
      "execution_count": null,
      "outputs": [
        {
          "output_type": "stream",
          "name": "stdout",
          "text": [
            "MAE 0.6374449266057829 MSE 0.5694752003212992 RMSE 0.7546358064134641 AIC 659.5845636205911 BIC 685.3457718837105\n"
          ]
        }
      ]
    },
    {
      "cell_type": "code",
      "source": [
        "model2=ARIMA(df_model['Price_Log'].dropna(),order=(0,0,5))\n",
        "model2=model2.fit()\n",
        "forecast_steps=365\n",
        "predictions=model2.forecast(steps=forecast_steps)\n",
        "future_dates = pd.date_range(start='2025-01-01', periods=forecast_steps, freq='D')\n",
        "predicted_prices = []\n",
        "for pred in predictions.values:\n",
        "    t = np.exp(pred)\n",
        "    predicted_prices.append(t)\n",
        "plt.plot(df_model.index, df_model['Price'], label='Actual Data',color=\"black\")\n",
        "plt.plot(future_dates, predicted_prices, label='Predictions',color=\"red\")\n",
        "plt.xticks(rotation=45)\n",
        "plt.xlabel(\"Date\")\n",
        "plt.ylabel(\"Price\")\n",
        "plt.legend()\n",
        "plt.show()"
      ],
      "metadata": {
        "colab": {
          "base_uri": "https://localhost:8080/",
          "height": 625
        },
        "id": "diKmAKSrlQ5a",
        "outputId": "26f7d498-1698-4139-f5bb-6feb96144501"
      },
      "execution_count": null,
      "outputs": [
        {
          "output_type": "stream",
          "name": "stderr",
          "text": [
            "/usr/local/lib/python3.10/dist-packages/statsmodels/tsa/base/tsa_model.py:473: ValueWarning: No frequency information was provided, so inferred frequency D will be used.\n",
            "  self._init_dates(dates, freq)\n",
            "/usr/local/lib/python3.10/dist-packages/statsmodels/tsa/base/tsa_model.py:473: ValueWarning: No frequency information was provided, so inferred frequency D will be used.\n",
            "  self._init_dates(dates, freq)\n",
            "/usr/local/lib/python3.10/dist-packages/statsmodels/tsa/base/tsa_model.py:473: ValueWarning: No frequency information was provided, so inferred frequency D will be used.\n",
            "  self._init_dates(dates, freq)\n"
          ]
        },
        {
          "output_type": "display_data",
          "data": {
            "text/plain": [
              "<Figure size 640x480 with 1 Axes>"
            ],
            "image/png": "[encoded data removed]"
          },
          "metadata": {}
        }
      ]
    },
    {
      "cell_type": "code",
      "source": [
        "predicted_prices[0:5]"
      ],
      "metadata": {
        "colab": {
          "base_uri": "https://localhost:8080/"
        },
        "id": "tiBVlKTaUcnG",
        "outputId": "4391a656-900c-4409-b245-480cacefe53f"
      },
      "execution_count": null,
      "outputs": [
        {
          "output_type": "execute_result",
          "data": {
            "text/plain": [
              "[3662580.7805089206,\n",
              " 3812633.00856993,\n",
              " 3734637.4339097724,\n",
              " 3710638.25119766,\n",
              " 3683175.792816559]"
            ]
          },
          "metadata": {},
          "execution_count": 666
        }
      ]
    },
    {
      "cell_type": "code",
      "source": [
        "model = auto_arima(df_model['Price_Sqrt'].dropna(), seasonal=False, trace=True,stepwise=False)\n",
        "model=model.fit(df_model['Price_Sqrt'].dropna())"
      ],
      "metadata": {
        "colab": {
          "base_uri": "https://localhost:8080/"
        },
        "id": "aixXCPf0S2PU",
        "outputId": "99492098-daa5-410e-dd2a-1bfa30a0f6c2"
      },
      "execution_count": null,
      "outputs": [
        {
          "output_type": "stream",
          "name": "stdout",
          "text": [
            " ARIMA(0,0,0)(0,0,0)[0]             : AIC=6656.301, Time=0.02 sec\n",
            " ARIMA(0,0,1)(0,0,0)[0]             : AIC=6394.761, Time=0.12 sec\n",
            " ARIMA(0,0,2)(0,0,0)[0]             : AIC=6267.372, Time=0.17 sec\n",
            " ARIMA(0,0,3)(0,0,0)[0]             : AIC=6196.352, Time=0.33 sec\n",
            " ARIMA(0,0,4)(0,0,0)[0]             : AIC=6138.195, Time=0.39 sec\n",
            " ARIMA(0,0,5)(0,0,0)[0]             : AIC=6106.653, Time=0.52 sec\n",
            " ARIMA(1,0,0)(0,0,0)[0]             : AIC=6025.303, Time=0.03 sec\n",
            " ARIMA(1,0,1)(0,0,0)[0]             : AIC=inf, Time=0.29 sec\n",
            " ARIMA(1,0,2)(0,0,0)[0]             : AIC=inf, Time=0.53 sec\n",
            " ARIMA(1,0,3)(0,0,0)[0]             : AIC=inf, Time=0.46 sec\n",
            " ARIMA(1,0,4)(0,0,0)[0]             : AIC=inf, Time=0.86 sec\n",
            " ARIMA(2,0,0)(0,0,0)[0]             : AIC=5952.592, Time=0.05 sec\n",
            " ARIMA(2,0,1)(0,0,0)[0]             : AIC=inf, Time=0.37 sec\n",
            " ARIMA(2,0,2)(0,0,0)[0]             : AIC=inf, Time=0.38 sec\n",
            " ARIMA(2,0,3)(0,0,0)[0]             : AIC=inf, Time=1.33 sec\n",
            " ARIMA(3,0,0)(0,0,0)[0]             : AIC=5917.274, Time=0.08 sec\n",
            " ARIMA(3,0,1)(0,0,0)[0]             : AIC=inf, Time=0.69 sec\n",
            " ARIMA(3,0,2)(0,0,0)[0]             : AIC=inf, Time=1.21 sec\n",
            " ARIMA(4,0,0)(0,0,0)[0]             : AIC=5900.708, Time=0.21 sec\n",
            " ARIMA(4,0,1)(0,0,0)[0]             : AIC=inf, Time=3.25 sec\n",
            " ARIMA(5,0,0)(0,0,0)[0]             : AIC=inf, Time=0.14 sec\n",
            "\n",
            "Best model:  ARIMA(4,0,0)(0,0,0)[0]          \n",
            "Total fit time: 11.473 seconds\n"
          ]
        }
      ]
    },
    {
      "cell_type": "code",
      "source": [
        "model3 = ARIMA(train['Price_Sqrt'].dropna(), order=(4,0,0))\n",
        "model3 = model3.fit()\n",
        "arima_pred = model3.predict(start=len(train), end=len(train) + len(test) - 1)\n",
        "test['arimaPred3'] = arima_pred.values\n",
        "print(np.sqrt(mean_squared_error(test['Price_Sqrt'], test['arimaPred3'])))\n",
        "future_dates = pd.date_range(start='2025-01-01', periods=forecast_steps, freq='D')\n",
        "forecast_steps = 365\n",
        "predictions = model3.forecast(steps=forecast_steps)\n",
        "predicted_prices = []\n",
        "for pred in predictions.values:\n",
        "    t = pred**2\n",
        "    predicted_prices.append(t)"
      ],
      "metadata": {
        "colab": {
          "base_uri": "https://localhost:8080/"
        },
        "id": "f-1fr-UMTtBq",
        "outputId": "3bba8930-a2d2-4967-c67f-85041c160226"
      },
      "execution_count": null,
      "outputs": [
        {
          "output_type": "stream",
          "name": "stdout",
          "text": [
            "688.8899061432692\n"
          ]
        },
        {
          "output_type": "stream",
          "name": "stderr",
          "text": [
            "/usr/local/lib/python3.10/dist-packages/statsmodels/tsa/base/tsa_model.py:473: ValueWarning: No frequency information was provided, so inferred frequency D will be used.\n",
            "  self._init_dates(dates, freq)\n",
            "/usr/local/lib/python3.10/dist-packages/statsmodels/tsa/base/tsa_model.py:473: ValueWarning: No frequency information was provided, so inferred frequency D will be used.\n",
            "  self._init_dates(dates, freq)\n",
            "/usr/local/lib/python3.10/dist-packages/statsmodels/tsa/base/tsa_model.py:473: ValueWarning: No frequency information was provided, so inferred frequency D will be used.\n",
            "  self._init_dates(dates, freq)\n",
            "<ipython-input-668-b4f957738338>:4: SettingWithCopyWarning: \n",
            "A value is trying to be set on a copy of a slice from a DataFrame.\n",
            "Try using .loc[row_indexer,col_indexer] = value instead\n",
            "\n",
            "See the caveats in the documentation: https://pandas.pydata.org/pandas-docs/stable/user_guide/indexing.html#returning-a-view-versus-a-copy\n",
            "  test['arimaPred3'] = arima_pred.values\n"
          ]
        }
      ]
    },
    {
      "cell_type": "code",
      "source": [
        "mae = mean_absolute_error(test['Price_Sqrt'], test['arimaPred3'])\n",
        "mse = mean_squared_error(test['Price_Sqrt'], test['arimaPred3'])\n",
        "rmse = np.sqrt(mse)\n",
        "aic=model3.aic\n",
        "bic=model3.bic\n",
        "print(\"MAE {} MSE {} RMSE {}  AIC {} BIC {}\".format(mae,mse,rmse,aic,bic))"
      ],
      "metadata": {
        "colab": {
          "base_uri": "https://localhost:8080/"
        },
        "id": "mGAtZvr3Lh32",
        "outputId": "c614b6ca-1b85-4852-ecb5-d1971787d0f6"
      },
      "execution_count": null,
      "outputs": [
        {
          "output_type": "stream",
          "name": "stdout",
          "text": [
            "MAE 580.2098284490377 MSE 474569.30278608226 RMSE 688.8899061432692  AIC 4670.348703884327 BIC 4692.429739538429\n"
          ]
        }
      ]
    },
    {
      "cell_type": "code",
      "source": [
        "model3=ARIMA(df_model['Price_Sqrt'].dropna(),order=(4,0,0))\n",
        "model3=model3.fit()\n",
        "forecast_steps=365\n",
        "predictions=model3.forecast(steps=forecast_steps)\n",
        "future_dates = pd.date_range(start='2025-01-01', periods=forecast_steps, freq='D')\n",
        "predicted_prices = []\n",
        "for pred in predictions.values:\n",
        "    t = pred**2\n",
        "    predicted_prices.append(t)\n",
        "plt.plot(df_model.index, df_model['Price'], label='Actual Data',color=\"black\")\n",
        "plt.plot(future_dates, predicted_prices, label='Predictions',color=\"red\")\n",
        "plt.xticks(rotation=45)\n",
        "plt.xlabel(\"Date\")\n",
        "plt.ylabel(\"Price\")\n",
        "plt.legend()\n",
        "plt.show()"
      ],
      "metadata": {
        "colab": {
          "base_uri": "https://localhost:8080/",
          "height": 625
        },
        "id": "WrWWVBDHT-23",
        "outputId": "fc522f66-4968-46b1-adcc-2f8edaa9c99d"
      },
      "execution_count": null,
      "outputs": [
        {
          "output_type": "stream",
          "name": "stderr",
          "text": [
            "/usr/local/lib/python3.10/dist-packages/statsmodels/tsa/base/tsa_model.py:473: ValueWarning: No frequency information was provided, so inferred frequency D will be used.\n",
            "  self._init_dates(dates, freq)\n",
            "/usr/local/lib/python3.10/dist-packages/statsmodels/tsa/base/tsa_model.py:473: ValueWarning: No frequency information was provided, so inferred frequency D will be used.\n",
            "  self._init_dates(dates, freq)\n",
            "/usr/local/lib/python3.10/dist-packages/statsmodels/tsa/base/tsa_model.py:473: ValueWarning: No frequency information was provided, so inferred frequency D will be used.\n",
            "  self._init_dates(dates, freq)\n"
          ]
        },
        {
          "output_type": "display_data",
          "data": {
            "text/plain": [
              "<Figure size 640x480 with 1 Axes>"
            ],
            "image/png": "[encoded data removed]"
          },
          "metadata": {}
        }
      ]
    },
    {
      "cell_type": "code",
      "source": [
        "predicted_prices[0:5]"
      ],
      "metadata": {
        "colab": {
          "base_uri": "https://localhost:8080/"
        },
        "id": "K8inVD_gUNxf",
        "outputId": "e4cdb556-0fb9-4e95-cbae-4470ee1d168b"
      },
      "execution_count": null,
      "outputs": [
        {
          "output_type": "execute_result",
          "data": {
            "text/plain": [
              "[4481989.203289026,\n",
              " 4295536.982266767,\n",
              " 4313607.171062993,\n",
              " 4308071.140576351,\n",
              " 4367239.493718794]"
            ]
          },
          "metadata": {},
          "execution_count": 671
        }
      ]
    },
    {
      "cell_type": "code",
      "source": [
        "model=auto_arima(df_model['Price_Cbrt'].dropna(),seasonal=False,trace=True,stepwise=False)\n",
        "model=model.fit(df_model['Price_Cbrt'].dropna())"
      ],
      "metadata": {
        "colab": {
          "base_uri": "https://localhost:8080/"
        },
        "id": "9WEJkMbRUXo5",
        "outputId": "523554e4-3ce9-492d-e7e9-f9fddf359924"
      },
      "execution_count": null,
      "outputs": [
        {
          "output_type": "stream",
          "name": "stdout",
          "text": [
            " ARIMA(0,0,0)(0,0,0)[0]             : AIC=4767.478, Time=0.02 sec\n",
            " ARIMA(0,0,1)(0,0,0)[0]             : AIC=4445.947, Time=0.14 sec\n",
            " ARIMA(0,0,2)(0,0,0)[0]             : AIC=4270.033, Time=0.18 sec\n",
            " ARIMA(0,0,3)(0,0,0)[0]             : AIC=4178.518, Time=0.21 sec\n",
            " ARIMA(0,0,4)(0,0,0)[0]             : AIC=4100.999, Time=0.60 sec\n",
            " ARIMA(0,0,5)(0,0,0)[0]             : AIC=4054.328, Time=0.54 sec\n",
            " ARIMA(1,0,0)(0,0,0)[0]             : AIC=3897.180, Time=0.08 sec\n",
            " ARIMA(1,0,1)(0,0,0)[0]             : AIC=inf, Time=0.31 sec\n",
            " ARIMA(1,0,2)(0,0,0)[0]             : AIC=inf, Time=0.73 sec\n",
            " ARIMA(1,0,3)(0,0,0)[0]             : AIC=inf, Time=0.65 sec\n",
            " ARIMA(1,0,4)(0,0,0)[0]             : AIC=inf, Time=0.75 sec\n",
            " ARIMA(2,0,0)(0,0,0)[0]             : AIC=3819.401, Time=0.06 sec\n",
            " ARIMA(2,0,1)(0,0,0)[0]             : AIC=inf, Time=0.41 sec\n",
            " ARIMA(2,0,2)(0,0,0)[0]             : AIC=inf, Time=0.62 sec\n",
            " ARIMA(2,0,3)(0,0,0)[0]             : AIC=inf, Time=0.64 sec\n",
            " ARIMA(3,0,0)(0,0,0)[0]             : AIC=inf, Time=0.13 sec\n",
            " ARIMA(3,0,1)(0,0,0)[0]             : AIC=inf, Time=0.62 sec\n",
            " ARIMA(3,0,2)(0,0,0)[0]             : AIC=inf, Time=0.73 sec\n",
            " ARIMA(4,0,0)(0,0,0)[0]             : AIC=inf, Time=0.07 sec\n",
            " ARIMA(4,0,1)(0,0,0)[0]             : AIC=inf, Time=0.77 sec\n",
            " ARIMA(5,0,0)(0,0,0)[0]             : AIC=inf, Time=0.16 sec\n",
            "\n",
            "Best model:  ARIMA(2,0,0)(0,0,0)[0]          \n",
            "Total fit time: 8.448 seconds\n"
          ]
        }
      ]
    },
    {
      "cell_type": "code",
      "source": [
        "model4=ARIMA(train['Price_Cbrt'].dropna(),order=(2,0,0))\n",
        "model4=model4.fit()\n",
        "arima_pred=model4.predict(start=len(train),end=len(train)+len(test)-1)\n",
        "test['arimaPred4']=arima_pred.values\n",
        "print(np.sqrt(mean_squared_error(test['Price_Cbrt'],test['arimaPred4'])))\n"
      ],
      "metadata": {
        "colab": {
          "base_uri": "https://localhost:8080/"
        },
        "id": "-KQs4qf_Vkaz",
        "outputId": "ccb82ad8-2d00-4761-8dbe-369c9a094822"
      },
      "execution_count": null,
      "outputs": [
        {
          "output_type": "stream",
          "name": "stdout",
          "text": [
            "37.05451482062933\n"
          ]
        },
        {
          "output_type": "stream",
          "name": "stderr",
          "text": [
            "/usr/local/lib/python3.10/dist-packages/statsmodels/tsa/base/tsa_model.py:473: ValueWarning: No frequency information was provided, so inferred frequency D will be used.\n",
            "  self._init_dates(dates, freq)\n",
            "/usr/local/lib/python3.10/dist-packages/statsmodels/tsa/base/tsa_model.py:473: ValueWarning: No frequency information was provided, so inferred frequency D will be used.\n",
            "  self._init_dates(dates, freq)\n",
            "/usr/local/lib/python3.10/dist-packages/statsmodels/tsa/base/tsa_model.py:473: ValueWarning: No frequency information was provided, so inferred frequency D will be used.\n",
            "  self._init_dates(dates, freq)\n",
            "<ipython-input-673-e584a6e1582b>:4: SettingWithCopyWarning: \n",
            "A value is trying to be set on a copy of a slice from a DataFrame.\n",
            "Try using .loc[row_indexer,col_indexer] = value instead\n",
            "\n",
            "See the caveats in the documentation: https://pandas.pydata.org/pandas-docs/stable/user_guide/indexing.html#returning-a-view-versus-a-copy\n",
            "  test['arimaPred4']=arima_pred.values\n"
          ]
        }
      ]
    },
    {
      "cell_type": "code",
      "source": [
        "mae = mean_absolute_error(test['Price_Cbrt'], test['arimaPred4'])\n",
        "mse = mean_squared_error(test['Price_Cbrt'], test['arimaPred4'])\n",
        "rmse = np.sqrt(mse)\n",
        "aic=model4.aic\n",
        "bic=model4.bic\n",
        "print(\"MAE {} MSE {} RMSE {} AIC {} BIC {}\".format(mae,mse,rmse,aic,bic))"
      ],
      "metadata": {
        "colab": {
          "base_uri": "https://localhost:8080/"
        },
        "id": "wPJ7r7F9LrPR",
        "outputId": "7a4801a9-f8e3-4a3f-d12d-e3ed2e1b02de"
      },
      "execution_count": null,
      "outputs": [
        {
          "output_type": "stream",
          "name": "stdout",
          "text": [
            "MAE 31.286685104800124 MSE 1373.0370685922385 RMSE 37.05451482062933 AIC 2950.9871788073215 BIC 2965.7078692433897\n"
          ]
        }
      ]
    },
    {
      "cell_type": "code",
      "source": [
        "model4=ARIMA(df_model['Price_Cbrt'].dropna(),order=(2,0,0))\n",
        "model4=model4.fit()\n",
        "forecast_steps=365\n",
        "future_dates=pd.date_range(start='2025-01-01',periods=forecast_steps,freq='D')\n",
        "predictions=model4.forecast(steps=forecast_steps)\n",
        "predicted_prices=[]\n",
        "for pred in predictions.values:\n",
        "  t=pred**3\n",
        "  predicted_prices.append(t)\n",
        "plt.plot(df_model.index,df_model['Price'],label='Actual Data',color=\"black\")\n",
        "plt.plot(future_dates,predicted_prices,label='Predictions',color='red')\n",
        "plt.xticks(rotation=45)\n",
        "plt.xlabel(\"Date\")\n",
        "plt.ylabel(\"Price\")\n",
        "plt.legend()\n",
        "plt.show()"
      ],
      "metadata": {
        "colab": {
          "base_uri": "https://localhost:8080/",
          "height": 625
        },
        "id": "aal2o7mxWHkG",
        "outputId": "33de0af6-517f-46d4-ba88-4ee45063f517"
      },
      "execution_count": null,
      "outputs": [
        {
          "output_type": "stream",
          "name": "stderr",
          "text": [
            "/usr/local/lib/python3.10/dist-packages/statsmodels/tsa/base/tsa_model.py:473: ValueWarning: No frequency information was provided, so inferred frequency D will be used.\n",
            "  self._init_dates(dates, freq)\n",
            "/usr/local/lib/python3.10/dist-packages/statsmodels/tsa/base/tsa_model.py:473: ValueWarning: No frequency information was provided, so inferred frequency D will be used.\n",
            "  self._init_dates(dates, freq)\n",
            "/usr/local/lib/python3.10/dist-packages/statsmodels/tsa/base/tsa_model.py:473: ValueWarning: No frequency information was provided, so inferred frequency D will be used.\n",
            "  self._init_dates(dates, freq)\n"
          ]
        },
        {
          "output_type": "display_data",
          "data": {
            "text/plain": [
              "<Figure size 640x480 with 1 Axes>"
            ],
            "image/png": "[encoded data removed]"
          },
          "metadata": {}
        }
      ]
    },
    {
      "cell_type": "code",
      "source": [
        "predicted_prices[0:5]"
      ],
      "metadata": {
        "colab": {
          "base_uri": "https://localhost:8080/"
        },
        "id": "-dvMglJpgn9x",
        "outputId": "66e7d791-c08b-41ba-c5c0-a623241eec76"
      },
      "execution_count": null,
      "outputs": [
        {
          "output_type": "execute_result",
          "data": {
            "text/plain": [
              "[4294770.956731542,\n",
              " 4149537.6888647955,\n",
              " 4197624.3567337105,\n",
              " 4204495.992923561,\n",
              " 4203545.831885505]"
            ]
          },
          "metadata": {},
          "execution_count": 676
        }
      ]
    },
    {
      "cell_type": "code",
      "source": [
        "model=auto_arima(df_model['Price_Log_Sqrt'].dropna(),seasonal=False,trace=True,stepwise=False)\n",
        "model=model.fit(df_model['Price_Log_Sqrt'].dropna())"
      ],
      "metadata": {
        "colab": {
          "base_uri": "https://localhost:8080/"
        },
        "id": "P1oe1kzihHgt",
        "outputId": "982b24c0-222d-4ffe-f567-d01f90a7f433"
      },
      "execution_count": null,
      "outputs": [
        {
          "output_type": "stream",
          "name": "stdout",
          "text": [
            " ARIMA(0,0,0)(0,0,0)[0]             : AIC=2030.268, Time=0.03 sec\n",
            " ARIMA(0,0,1)(0,0,0)[0]             : AIC=inf, Time=0.31 sec\n",
            " ARIMA(0,0,2)(0,0,0)[0]             : AIC=1163.657, Time=0.38 sec\n",
            " ARIMA(0,0,3)(0,0,0)[0]             : AIC=852.849, Time=1.17 sec\n",
            " ARIMA(0,0,4)(0,0,0)[0]             : AIC=666.865, Time=0.65 sec\n",
            " ARIMA(0,0,5)(0,0,0)[0]             : AIC=482.011, Time=1.81 sec\n",
            " ARIMA(1,0,0)(0,0,0)[0]             : AIC=inf, Time=0.06 sec\n",
            " ARIMA(1,0,1)(0,0,0)[0]             : AIC=inf, Time=0.48 sec\n",
            " ARIMA(1,0,2)(0,0,0)[0]             : AIC=-644.297, Time=0.14 sec\n",
            " ARIMA(1,0,3)(0,0,0)[0]             : AIC=-653.722, Time=0.52 sec\n",
            " ARIMA(1,0,4)(0,0,0)[0]             : AIC=-649.095, Time=0.60 sec\n",
            " ARIMA(2,0,0)(0,0,0)[0]             : AIC=inf, Time=0.09 sec\n",
            " ARIMA(2,0,1)(0,0,0)[0]             : AIC=-631.863, Time=0.41 sec\n",
            " ARIMA(2,0,2)(0,0,0)[0]             : AIC=inf, Time=0.74 sec\n",
            " ARIMA(2,0,3)(0,0,0)[0]             : AIC=inf, Time=1.18 sec\n",
            " ARIMA(3,0,0)(0,0,0)[0]             : AIC=inf, Time=0.09 sec\n",
            " ARIMA(3,0,1)(0,0,0)[0]             : AIC=inf, Time=0.66 sec\n",
            " ARIMA(3,0,2)(0,0,0)[0]             : AIC=inf, Time=0.92 sec\n",
            " ARIMA(4,0,0)(0,0,0)[0]             : AIC=inf, Time=0.20 sec\n",
            " ARIMA(4,0,1)(0,0,0)[0]             : AIC=-651.422, Time=0.59 sec\n",
            " ARIMA(5,0,0)(0,0,0)[0]             : AIC=inf, Time=0.69 sec\n",
            "\n",
            "Best model:  ARIMA(1,0,3)(0,0,0)[0]          \n",
            "Total fit time: 11.770 seconds\n"
          ]
        }
      ]
    },
    {
      "cell_type": "code",
      "source": [
        "model5=ARIMA(train['Price_Log_Sqrt'].dropna(),order=(1,0,3))\n",
        "model5=model5.fit()\n",
        "arima_pred=model5.predict(start=len(train),end=len(train)+len(test)-1)\n",
        "test['arimaPred5']=arima_pred.values\n",
        "print(np.sqrt(mean_squared_error(test['Price_Log_Sqrt'],test['arimaPred5'])))\n"
      ],
      "metadata": {
        "colab": {
          "base_uri": "https://localhost:8080/"
        },
        "id": "8wxvF9d5qdnP",
        "outputId": "8daa8b15-b9b2-4911-ec8a-8dce0cd04540"
      },
      "execution_count": null,
      "outputs": [
        {
          "output_type": "stream",
          "name": "stderr",
          "text": [
            "/usr/local/lib/python3.10/dist-packages/statsmodels/tsa/base/tsa_model.py:473: ValueWarning: No frequency information was provided, so inferred frequency D will be used.\n",
            "  self._init_dates(dates, freq)\n",
            "/usr/local/lib/python3.10/dist-packages/statsmodels/tsa/base/tsa_model.py:473: ValueWarning: No frequency information was provided, so inferred frequency D will be used.\n",
            "  self._init_dates(dates, freq)\n",
            "/usr/local/lib/python3.10/dist-packages/statsmodels/tsa/base/tsa_model.py:473: ValueWarning: No frequency information was provided, so inferred frequency D will be used.\n",
            "  self._init_dates(dates, freq)\n"
          ]
        },
        {
          "output_type": "stream",
          "name": "stdout",
          "text": [
            "0.0968926400423876\n"
          ]
        },
        {
          "output_type": "stream",
          "name": "stderr",
          "text": [
            "/usr/local/lib/python3.10/dist-packages/statsmodels/base/model.py:607: ConvergenceWarning: Maximum Likelihood optimization failed to converge. Check mle_retvals\n",
            "  warnings.warn(\"Maximum Likelihood optimization failed to \"\n",
            "<ipython-input-678-c2fe185ae59a>:4: SettingWithCopyWarning: \n",
            "A value is trying to be set on a copy of a slice from a DataFrame.\n",
            "Try using .loc[row_indexer,col_indexer] = value instead\n",
            "\n",
            "See the caveats in the documentation: https://pandas.pydata.org/pandas-docs/stable/user_guide/indexing.html#returning-a-view-versus-a-copy\n",
            "  test['arimaPred5']=arima_pred.values\n"
          ]
        }
      ]
    },
    {
      "cell_type": "code",
      "source": [
        "mae = mean_absolute_error(test['Price_Log_Sqrt'], test['arimaPred5'])\n",
        "mse = mean_squared_error(test['Price_Log_Sqrt'], test['arimaPred5'])\n",
        "rmse = np.sqrt(mse)\n",
        "aic=model5.aic\n",
        "bic=model5.bic\n",
        "print(\"MAE {} MSE {} RMSE {}  AIC {} BIC {}\".format(mae,mse,rmse,aic,bic))"
      ],
      "metadata": {
        "colab": {
          "base_uri": "https://localhost:8080/"
        },
        "id": "A1cPKeb3L5zn",
        "outputId": "3d1d90c5-39d4-4153-ede9-68f3904b84cf"
      },
      "execution_count": null,
      "outputs": [
        {
          "output_type": "stream",
          "name": "stdout",
          "text": [
            "MAE 0.0823610921040946 MSE 0.00938818369438369 RMSE 0.0968926400423876  AIC -544.1589447356703 BIC -522.0779090815679\n"
          ]
        }
      ]
    },
    {
      "cell_type": "code",
      "source": [
        "model5=ARIMA(df_model['Price_Log_Sqrt'].dropna(),order=(1,0,3))\n",
        "model5=model5.fit()\n",
        "forecast_steps=365\n",
        "future_dates=pd.date_range(start='2025-01-01',periods=forecast_steps,freq='D')\n",
        "predictions=model5.forecast(steps=forecast_steps)\n",
        "predicted_prices=[]\n",
        "for pred in predictions.values:\n",
        "  t=np.exp(pred**2)\n",
        "  predicted_prices.append(t)\n",
        "plt.figure(figsize=(10,7))\n",
        "plt.plot(df_model.index,df_model['Price'],label='Actual Data',color=\"black\")\n",
        "plt.plot(future_dates,predicted_prices,label='Predictions',color='red')\n",
        "plt.xticks(rotation=45)\n",
        "plt.xlabel(\"Date\")\n",
        "plt.ylabel(\"Price\")\n",
        "plt.legend()\n",
        "plt.show()"
      ],
      "metadata": {
        "colab": {
          "base_uri": "https://localhost:8080/",
          "height": 795
        },
        "id": "UaUkILP1qr-s",
        "outputId": "3a1ea592-7cb6-4fa7-b557-58a5d5d302e7"
      },
      "execution_count": null,
      "outputs": [
        {
          "output_type": "stream",
          "name": "stderr",
          "text": [
            "/usr/local/lib/python3.10/dist-packages/statsmodels/tsa/base/tsa_model.py:473: ValueWarning: No frequency information was provided, so inferred frequency D will be used.\n",
            "  self._init_dates(dates, freq)\n",
            "/usr/local/lib/python3.10/dist-packages/statsmodels/tsa/base/tsa_model.py:473: ValueWarning: No frequency information was provided, so inferred frequency D will be used.\n",
            "  self._init_dates(dates, freq)\n",
            "/usr/local/lib/python3.10/dist-packages/statsmodels/tsa/base/tsa_model.py:473: ValueWarning: No frequency information was provided, so inferred frequency D will be used.\n",
            "  self._init_dates(dates, freq)\n"
          ]
        },
        {
          "output_type": "display_data",
          "data": {
            "text/plain": [
              "<Figure size 1000x700 with 1 Axes>"
            ],
            "image/png": "[encoded data removed]"
          },
          "metadata": {}
        }
      ]
    },
    {
      "cell_type": "code",
      "source": [
        "predicted_prices[0:2]"
      ],
      "metadata": {
        "colab": {
          "base_uri": "https://localhost:8080/"
        },
        "id": "pIn3LY_4rjMi",
        "outputId": "152263d4-2073-4011-ae62-b154c7ff0fc9"
      },
      "execution_count": null,
      "outputs": [
        {
          "output_type": "execute_result",
          "data": {
            "text/plain": [
              "[3989272.9417486503, 3767994.461383589]"
            ]
          },
          "metadata": {},
          "execution_count": 681
        }
      ]
    },
    {
      "cell_type": "code",
      "source": [
        "model = auto_arima(df_model['Price_Log_Cbrt'].dropna(), seasonal=False, trace=True,stepwise=False)\n",
        "model=model.fit(df_model['Price_Log_Cbrt'].dropna())\n"
      ],
      "metadata": {
        "colab": {
          "base_uri": "https://localhost:8080/"
        },
        "id": "GLnEbh5nru3a",
        "outputId": "b53cc394-62a8-406b-890e-5866507fdc70"
      },
      "execution_count": null,
      "outputs": [
        {
          "output_type": "stream",
          "name": "stdout",
          "text": [
            " ARIMA(0,0,0)(0,0,0)[0]             : AIC=1699.357, Time=0.03 sec\n",
            " ARIMA(0,0,1)(0,0,0)[0]             : AIC=inf, Time=0.42 sec\n",
            " ARIMA(0,0,2)(0,0,0)[0]             : AIC=802.438, Time=1.09 sec\n",
            " ARIMA(0,0,3)(0,0,0)[0]             : AIC=459.812, Time=0.79 sec\n",
            " ARIMA(0,0,4)(0,0,0)[0]             : AIC=246.064, Time=1.34 sec\n",
            " ARIMA(0,0,5)(0,0,0)[0]             : AIC=40.628, Time=0.43 sec\n",
            " ARIMA(1,0,0)(0,0,0)[0]             : AIC=inf, Time=0.06 sec\n",
            " ARIMA(1,0,1)(0,0,0)[0]             : AIC=-1283.093, Time=0.43 sec\n",
            " ARIMA(1,0,2)(0,0,0)[0]             : AIC=-1270.412, Time=0.29 sec\n",
            " ARIMA(1,0,3)(0,0,0)[0]             : AIC=-1234.048, Time=0.30 sec\n",
            " ARIMA(1,0,4)(0,0,0)[0]             : AIC=-1240.993, Time=0.54 sec\n",
            " ARIMA(2,0,0)(0,0,0)[0]             : AIC=inf, Time=0.09 sec\n",
            " ARIMA(2,0,1)(0,0,0)[0]             : AIC=-1249.630, Time=0.45 sec\n",
            " ARIMA(2,0,2)(0,0,0)[0]             : AIC=inf, Time=0.62 sec\n",
            " ARIMA(2,0,3)(0,0,0)[0]             : AIC=inf, Time=1.01 sec\n",
            " ARIMA(3,0,0)(0,0,0)[0]             : AIC=inf, Time=0.09 sec\n",
            " ARIMA(3,0,1)(0,0,0)[0]             : AIC=-1267.226, Time=0.54 sec\n",
            " ARIMA(3,0,2)(0,0,0)[0]             : AIC=inf, Time=0.63 sec\n",
            " ARIMA(4,0,0)(0,0,0)[0]             : AIC=inf, Time=0.60 sec\n",
            " ARIMA(4,0,1)(0,0,0)[0]             : AIC=-1180.954, Time=0.68 sec\n",
            " ARIMA(5,0,0)(0,0,0)[0]             : AIC=inf, Time=0.74 sec\n",
            "\n",
            "Best model:  ARIMA(1,0,1)(0,0,0)[0]          \n",
            "Total fit time: 11.215 seconds\n"
          ]
        }
      ]
    },
    {
      "cell_type": "code",
      "source": [
        "model6 = ARIMA(train['Price_Log_Cbrt'].dropna(), order=(1,0,1))\n",
        "model6 = model6.fit()\n",
        "arima_pred = model6.predict(start=len(train), end=len(train) + len(test) - 1)\n",
        "test['arimaPred6'] = arima_pred.values\n",
        "print(np.sqrt(mean_squared_error(test['Price_Log_Cbrt'], test['arimaPred6'])))\n"
      ],
      "metadata": {
        "colab": {
          "base_uri": "https://localhost:8080/"
        },
        "id": "4w5IjWRe0L9X",
        "outputId": "375b0edb-2da2-45a9-83fb-5d44ab0276c3"
      },
      "execution_count": null,
      "outputs": [
        {
          "output_type": "stream",
          "name": "stderr",
          "text": [
            "/usr/local/lib/python3.10/dist-packages/statsmodels/tsa/base/tsa_model.py:473: ValueWarning: No frequency information was provided, so inferred frequency D will be used.\n",
            "  self._init_dates(dates, freq)\n",
            "/usr/local/lib/python3.10/dist-packages/statsmodels/tsa/base/tsa_model.py:473: ValueWarning: No frequency information was provided, so inferred frequency D will be used.\n",
            "  self._init_dates(dates, freq)\n",
            "/usr/local/lib/python3.10/dist-packages/statsmodels/tsa/base/tsa_model.py:473: ValueWarning: No frequency information was provided, so inferred frequency D will be used.\n",
            "  self._init_dates(dates, freq)\n"
          ]
        },
        {
          "output_type": "stream",
          "name": "stdout",
          "text": [
            "0.04128585602625413\n"
          ]
        },
        {
          "output_type": "stream",
          "name": "stderr",
          "text": [
            "<ipython-input-683-b60cb833ba2c>:4: SettingWithCopyWarning: \n",
            "A value is trying to be set on a copy of a slice from a DataFrame.\n",
            "Try using .loc[row_indexer,col_indexer] = value instead\n",
            "\n",
            "See the caveats in the documentation: https://pandas.pydata.org/pandas-docs/stable/user_guide/indexing.html#returning-a-view-versus-a-copy\n",
            "  test['arimaPred6'] = arima_pred.values\n"
          ]
        }
      ]
    },
    {
      "cell_type": "code",
      "source": [
        "mae = mean_absolute_error(test['Price_Log_Cbrt'], test['arimaPred6'])\n",
        "mse = mean_squared_error(test['Price_Log_Cbrt'], test['arimaPred6'])\n",
        "rmse = np.sqrt(mse)\n",
        "aic=model6.aic\n",
        "bic=model6.bic\n",
        "print(\"MAE {} MSE {} RMSE {}  AIC {} BIC {}\".format(mae,mse,rmse,aic,bic))"
      ],
      "metadata": {
        "colab": {
          "base_uri": "https://localhost:8080/"
        },
        "id": "JvVW9v2CMBbJ",
        "outputId": "bde01ec7-7d79-4926-b65e-87168aa68e29"
      },
      "execution_count": null,
      "outputs": [
        {
          "output_type": "stream",
          "name": "stdout",
          "text": [
            "MAE 0.03481792208568237 MSE 0.0017045219078205842 RMSE 0.04128585602625413  AIC -1043.362205493831 BIC -1028.6415150577627\n"
          ]
        }
      ]
    },
    {
      "cell_type": "code",
      "source": [
        "\n",
        "model6=ARIMA(df_model['Price_Log_Cbrt'].dropna(),order=(1,0,1))\n",
        "model6=model6.fit()\n",
        "forecast_steps=365\n",
        "predictions=model6.forecast(steps=forecast_steps)\n",
        "future_dates = pd.date_range(start='2025-01-01', periods=forecast_steps, freq='D')\n",
        "predicted_prices = []\n",
        "for pred in predictions.values:\n",
        "    t = np.exp(pred**3)\n",
        "    predicted_prices.append(t)\n",
        "plt.plot(df_model.index, df_model['Price'], label='Actual Data',color=\"black\")\n",
        "plt.plot(future_dates, predicted_prices, label='Predictions',color=\"red\")\n",
        "plt.xticks(rotation=45)\n",
        "plt.xlabel(\"Date\")\n",
        "plt.ylabel(\"Price\")\n",
        "plt.legend()\n",
        "plt.show()"
      ],
      "metadata": {
        "colab": {
          "base_uri": "https://localhost:8080/",
          "height": 625
        },
        "id": "5r0za5EQ4mgK",
        "outputId": "633be576-a465-4190-e9ec-88f16b2d7e33"
      },
      "execution_count": null,
      "outputs": [
        {
          "output_type": "stream",
          "name": "stderr",
          "text": [
            "/usr/local/lib/python3.10/dist-packages/statsmodels/tsa/base/tsa_model.py:473: ValueWarning: No frequency information was provided, so inferred frequency D will be used.\n",
            "  self._init_dates(dates, freq)\n",
            "/usr/local/lib/python3.10/dist-packages/statsmodels/tsa/base/tsa_model.py:473: ValueWarning: No frequency information was provided, so inferred frequency D will be used.\n",
            "  self._init_dates(dates, freq)\n",
            "/usr/local/lib/python3.10/dist-packages/statsmodels/tsa/base/tsa_model.py:473: ValueWarning: No frequency information was provided, so inferred frequency D will be used.\n",
            "  self._init_dates(dates, freq)\n"
          ]
        },
        {
          "output_type": "display_data",
          "data": {
            "text/plain": [
              "<Figure size 640x480 with 1 Axes>"
            ],
            "image/png": "[encoded data removed]"
          },
          "metadata": {}
        }
      ]
    },
    {
      "cell_type": "code",
      "source": [
        "predicted_prices[0:5]"
      ],
      "metadata": {
        "colab": {
          "base_uri": "https://localhost:8080/"
        },
        "id": "xzsaPpX35Dpw",
        "outputId": "6e0a26ee-d09f-43fd-e6c3-910ab62d5880"
      },
      "execution_count": null,
      "outputs": [
        {
          "output_type": "execute_result",
          "data": {
            "text/plain": [
              "[3927419.826814876,\n",
              " 3797291.7115942095,\n",
              " 3812728.9387331763,\n",
              " 3810865.5007203626,\n",
              " 3811089.9687543004]"
            ]
          },
          "metadata": {},
          "execution_count": 686
        }
      ]
    },
    {
      "cell_type": "code",
      "source": [
        "model = auto_arima(df_model['Price_Sqrt_Log'].dropna(), seasonal=False, trace=True,stepwise=False)\n",
        "model=model.fit(df_model['Price_Sqrt_Log'].dropna())\n"
      ],
      "metadata": {
        "colab": {
          "base_uri": "https://localhost:8080/"
        },
        "id": "IEDZB9cO5Fk5",
        "outputId": "72a0abda-f580-4d98-9f9f-6421dfb95a40"
      },
      "execution_count": null,
      "outputs": [
        {
          "output_type": "stream",
          "name": "stdout",
          "text": [
            " ARIMA(0,0,0)(0,0,0)[0]             : AIC=2517.573, Time=0.02 sec\n",
            " ARIMA(0,0,1)(0,0,0)[0]             : AIC=2049.145, Time=0.13 sec\n",
            " ARIMA(0,0,2)(0,0,0)[0]             : AIC=1709.485, Time=0.26 sec\n",
            " ARIMA(0,0,3)(0,0,0)[0]             : AIC=1480.888, Time=0.27 sec\n",
            " ARIMA(0,0,4)(0,0,0)[0]             : AIC=1319.598, Time=0.30 sec\n",
            " ARIMA(0,0,5)(0,0,0)[0]             : AIC=1180.043, Time=0.86 sec\n",
            " ARIMA(1,0,0)(0,0,0)[0]             : AIC=inf, Time=0.04 sec\n",
            " ARIMA(1,0,1)(0,0,0)[0]             : AIC=inf, Time=3.38 sec\n",
            " ARIMA(1,0,2)(0,0,0)[0]             : AIC=inf, Time=0.56 sec\n",
            " ARIMA(1,0,3)(0,0,0)[0]             : AIC=inf, Time=0.79 sec\n",
            " ARIMA(1,0,4)(0,0,0)[0]             : AIC=inf, Time=0.97 sec\n",
            " ARIMA(2,0,0)(0,0,0)[0]             : AIC=inf, Time=0.06 sec\n",
            " ARIMA(2,0,1)(0,0,0)[0]             : AIC=inf, Time=0.48 sec\n",
            " ARIMA(2,0,2)(0,0,0)[0]             : AIC=inf, Time=0.88 sec\n",
            " ARIMA(2,0,3)(0,0,0)[0]             : AIC=inf, Time=0.92 sec\n",
            " ARIMA(3,0,0)(0,0,0)[0]             : AIC=inf, Time=0.15 sec\n",
            " ARIMA(3,0,1)(0,0,0)[0]             : AIC=inf, Time=0.60 sec\n",
            " ARIMA(3,0,2)(0,0,0)[0]             : AIC=inf, Time=0.61 sec\n",
            " ARIMA(4,0,0)(0,0,0)[0]             : AIC=inf, Time=0.19 sec\n",
            " ARIMA(4,0,1)(0,0,0)[0]             : AIC=inf, Time=0.71 sec\n",
            " ARIMA(5,0,0)(0,0,0)[0]             : AIC=inf, Time=0.29 sec\n",
            "\n",
            "Best model:  ARIMA(0,0,5)(0,0,0)[0]          \n",
            "Total fit time: 12.492 seconds\n"
          ]
        }
      ]
    },
    {
      "cell_type": "code",
      "source": [
        "model7 = ARIMA(train['Price_Sqrt_Log'].dropna(), order=(0,0,5))\n",
        "model7 = model7.fit()\n",
        "arima_pred = model7.predict(start=len(train), end=len(train) + len(test) - 1)\n",
        "test['arimaPred7'] = arima_pred.values\n",
        "print(np.sqrt(mean_squared_error(test['Price_Sqrt_Log'], test['arimaPred7'])))\n"
      ],
      "metadata": {
        "colab": {
          "base_uri": "https://localhost:8080/"
        },
        "id": "3v3OvMme_7mZ",
        "outputId": "26062e87-63d6-4ac1-e349-1acacd8d6576"
      },
      "execution_count": null,
      "outputs": [
        {
          "output_type": "stream",
          "name": "stderr",
          "text": [
            "/usr/local/lib/python3.10/dist-packages/statsmodels/tsa/base/tsa_model.py:473: ValueWarning: No frequency information was provided, so inferred frequency D will be used.\n",
            "  self._init_dates(dates, freq)\n",
            "/usr/local/lib/python3.10/dist-packages/statsmodels/tsa/base/tsa_model.py:473: ValueWarning: No frequency information was provided, so inferred frequency D will be used.\n",
            "  self._init_dates(dates, freq)\n",
            "/usr/local/lib/python3.10/dist-packages/statsmodels/tsa/base/tsa_model.py:473: ValueWarning: No frequency information was provided, so inferred frequency D will be used.\n",
            "  self._init_dates(dates, freq)\n"
          ]
        },
        {
          "output_type": "stream",
          "name": "stdout",
          "text": [
            "0.3773175047928264\n"
          ]
        },
        {
          "output_type": "stream",
          "name": "stderr",
          "text": [
            "<ipython-input-688-4a461d3fa486>:4: SettingWithCopyWarning: \n",
            "A value is trying to be set on a copy of a slice from a DataFrame.\n",
            "Try using .loc[row_indexer,col_indexer] = value instead\n",
            "\n",
            "See the caveats in the documentation: https://pandas.pydata.org/pandas-docs/stable/user_guide/indexing.html#returning-a-view-versus-a-copy\n",
            "  test['arimaPred7'] = arima_pred.values\n"
          ]
        }
      ]
    },
    {
      "cell_type": "code",
      "source": [
        "mae = mean_absolute_error(test['Price_Sqrt_Log'], test['arimaPred7'])\n",
        "mse = mean_squared_error(test['Price_Sqrt_Log'], test['arimaPred7'])\n",
        "rmse = np.sqrt(mse)\n",
        "aic=model7.aic\n",
        "bic=model7.bic\n",
        "print(\"MAE {} MSE {} RMSE {} AIC {} BIC {}\".format(mae,mse,rmse,aic,bic))"
      ],
      "metadata": {
        "colab": {
          "base_uri": "https://localhost:8080/"
        },
        "id": "xml6arGQMI6n",
        "outputId": "f703ca84-beba-43f3-a419-f00d4ec18f23"
      },
      "execution_count": null,
      "outputs": [
        {
          "output_type": "stream",
          "name": "stdout",
          "text": [
            "MAE 0.3187230043885897 MSE 0.14236849942308455 RMSE 0.3773175047928264 AIC 253.40031590318233 BIC 279.1615241663018\n"
          ]
        }
      ]
    },
    {
      "cell_type": "code",
      "source": [
        "\n",
        "model7=ARIMA(df_model['Price_Sqrt_Log'].dropna(),order=(0,0,5))\n",
        "model7=model7.fit()\n",
        "forecast_steps=365\n",
        "predictions=model7.forecast(steps=forecast_steps)\n",
        "future_dates = pd.date_range(start='2025-01-01', periods=forecast_steps, freq='D')\n",
        "predicted_prices = []\n",
        "for pred in predictions.values:\n",
        "    t = (np.exp(pred))**2\n",
        "    predicted_prices.append(t)\n",
        "plt.plot(df_model.index, df_model['Price'], label='Actual Data',color=\"black\")\n",
        "plt.plot(future_dates, predicted_prices, label='Predictions',color=\"red\")\n",
        "plt.xticks(rotation=45)\n",
        "plt.xlabel(\"Date\")\n",
        "plt.ylabel(\"Price\")\n",
        "plt.legend()\n",
        "plt.show()"
      ],
      "metadata": {
        "colab": {
          "base_uri": "https://localhost:8080/",
          "height": 625
        },
        "id": "YpjmZ-v1AKNI",
        "outputId": "0a5e38f3-9504-4235-aeef-ff0e07984aec"
      },
      "execution_count": null,
      "outputs": [
        {
          "output_type": "stream",
          "name": "stderr",
          "text": [
            "/usr/local/lib/python3.10/dist-packages/statsmodels/tsa/base/tsa_model.py:473: ValueWarning: No frequency information was provided, so inferred frequency D will be used.\n",
            "  self._init_dates(dates, freq)\n",
            "/usr/local/lib/python3.10/dist-packages/statsmodels/tsa/base/tsa_model.py:473: ValueWarning: No frequency information was provided, so inferred frequency D will be used.\n",
            "  self._init_dates(dates, freq)\n",
            "/usr/local/lib/python3.10/dist-packages/statsmodels/tsa/base/tsa_model.py:473: ValueWarning: No frequency information was provided, so inferred frequency D will be used.\n",
            "  self._init_dates(dates, freq)\n"
          ]
        },
        {
          "output_type": "display_data",
          "data": {
            "text/plain": [
              "<Figure size 640x480 with 1 Axes>"
            ],
            "image/png": "[encoded data removed]"
          },
          "metadata": {}
        }
      ]
    },
    {
      "cell_type": "code",
      "source": [
        "predicted_prices[0:2]"
      ],
      "metadata": {
        "colab": {
          "base_uri": "https://localhost:8080/"
        },
        "id": "nyLdsigsAbuS",
        "outputId": "b1749d04-008a-4757-8576-1dfbfe643e53"
      },
      "execution_count": null,
      "outputs": [
        {
          "output_type": "execute_result",
          "data": {
            "text/plain": [
              "[3662556.396509906, 3812615.47566349]"
            ]
          },
          "metadata": {},
          "execution_count": 691
        }
      ]
    },
    {
      "cell_type": "code",
      "source": [
        "model = auto_arima(df_model['Price_Cbrt_Log'].dropna(), seasonal=False, trace=True,stepwise=False)\n",
        "model=model.fit(df_model['Price_Cbrt_Log'].dropna())\n"
      ],
      "metadata": {
        "colab": {
          "base_uri": "https://localhost:8080/"
        },
        "collapsed": true,
        "id": "OraBeJgRAgBQ",
        "outputId": "62791f67-2230-49bc-c4eb-6a2f8ac83493"
      },
      "execution_count": null,
      "outputs": [
        {
          "output_type": "stream",
          "name": "stdout",
          "text": [
            " ARIMA(0,0,0)(0,0,0)[0]             : AIC=2221.583, Time=0.02 sec\n",
            " ARIMA(0,0,1)(0,0,0)[0]             : AIC=1753.156, Time=0.08 sec\n",
            " ARIMA(0,0,2)(0,0,0)[0]             : AIC=1413.495, Time=0.14 sec\n",
            " ARIMA(0,0,3)(0,0,0)[0]             : AIC=1184.898, Time=0.22 sec\n",
            " ARIMA(0,0,4)(0,0,0)[0]             : AIC=1023.609, Time=0.27 sec\n",
            " ARIMA(0,0,5)(0,0,0)[0]             : AIC=884.054, Time=0.69 sec\n",
            " ARIMA(1,0,0)(0,0,0)[0]             : AIC=inf, Time=0.17 sec\n",
            " ARIMA(1,0,1)(0,0,0)[0]             : AIC=inf, Time=1.74 sec\n",
            " ARIMA(1,0,2)(0,0,0)[0]             : AIC=inf, Time=1.93 sec\n",
            " ARIMA(1,0,3)(0,0,0)[0]             : AIC=inf, Time=0.61 sec\n",
            " ARIMA(1,0,4)(0,0,0)[0]             : AIC=inf, Time=0.74 sec\n",
            " ARIMA(2,0,0)(0,0,0)[0]             : AIC=inf, Time=0.06 sec\n",
            " ARIMA(2,0,1)(0,0,0)[0]             : AIC=32.072, Time=0.45 sec\n",
            " ARIMA(2,0,2)(0,0,0)[0]             : AIC=inf, Time=0.75 sec\n",
            " ARIMA(2,0,3)(0,0,0)[0]             : AIC=inf, Time=0.98 sec\n",
            " ARIMA(3,0,0)(0,0,0)[0]             : AIC=inf, Time=0.09 sec\n",
            " ARIMA(3,0,1)(0,0,0)[0]             : AIC=inf, Time=0.69 sec\n",
            " ARIMA(3,0,2)(0,0,0)[0]             : AIC=inf, Time=1.00 sec\n",
            " ARIMA(4,0,0)(0,0,0)[0]             : AIC=inf, Time=0.23 sec\n",
            " ARIMA(4,0,1)(0,0,0)[0]             : AIC=inf, Time=0.89 sec\n",
            " ARIMA(5,0,0)(0,0,0)[0]             : AIC=inf, Time=0.12 sec\n",
            "\n",
            "Best model:  ARIMA(2,0,1)(0,0,0)[0]          \n",
            "Total fit time: 11.922 seconds\n"
          ]
        }
      ]
    },
    {
      "cell_type": "code",
      "source": [
        "model8 = ARIMA(train['Price_Cbrt_Log'].dropna(), order=(2,0,1))\n",
        "model8 = model8.fit()\n",
        "arima_pred = model8.predict(start=len(train), end=len(train) + len(test) - 1)\n",
        "test['arimaPred8'] = arima_pred.values\n",
        "print(np.sqrt(mean_squared_error(test['Price_Cbrt_Log'], test['arimaPred8'])))\n"
      ],
      "metadata": {
        "colab": {
          "base_uri": "https://localhost:8080/"
        },
        "id": "e9LilM9SAxBK",
        "outputId": "459062e0-27c0-4800-d884-314788446e94"
      },
      "execution_count": null,
      "outputs": [
        {
          "output_type": "stream",
          "name": "stderr",
          "text": [
            "/usr/local/lib/python3.10/dist-packages/statsmodels/tsa/base/tsa_model.py:473: ValueWarning: No frequency information was provided, so inferred frequency D will be used.\n",
            "  self._init_dates(dates, freq)\n",
            "/usr/local/lib/python3.10/dist-packages/statsmodels/tsa/base/tsa_model.py:473: ValueWarning: No frequency information was provided, so inferred frequency D will be used.\n",
            "  self._init_dates(dates, freq)\n",
            "/usr/local/lib/python3.10/dist-packages/statsmodels/tsa/base/tsa_model.py:473: ValueWarning: No frequency information was provided, so inferred frequency D will be used.\n",
            "  self._init_dates(dates, freq)\n"
          ]
        },
        {
          "output_type": "stream",
          "name": "stdout",
          "text": [
            "0.24940756502111172\n"
          ]
        },
        {
          "output_type": "stream",
          "name": "stderr",
          "text": [
            "/usr/local/lib/python3.10/dist-packages/statsmodels/base/model.py:607: ConvergenceWarning: Maximum Likelihood optimization failed to converge. Check mle_retvals\n",
            "  warnings.warn(\"Maximum Likelihood optimization failed to \"\n",
            "<ipython-input-693-af7378a10a87>:4: SettingWithCopyWarning: \n",
            "A value is trying to be set on a copy of a slice from a DataFrame.\n",
            "Try using .loc[row_indexer,col_indexer] = value instead\n",
            "\n",
            "See the caveats in the documentation: https://pandas.pydata.org/pandas-docs/stable/user_guide/indexing.html#returning-a-view-versus-a-copy\n",
            "  test['arimaPred8'] = arima_pred.values\n"
          ]
        }
      ]
    },
    {
      "cell_type": "code",
      "source": [
        "mae = mean_absolute_error(test['Price_Cbrt_Log'], test['arimaPred8'])\n",
        "mse = mean_squared_error(test['Price_Cbrt_Log'], test['arimaPred8'])\n",
        "rmse = np.sqrt(mse)\n",
        "aic=model8.aic\n",
        "bic=model8.bic\n",
        "print(\"MAE {} MSE {} RMSE {} AIC {} BIC {}\".format(mae,mse,rmse,aic,bic))"
      ],
      "metadata": {
        "colab": {
          "base_uri": "https://localhost:8080/"
        },
        "id": "PVm5AYI-MW1K",
        "outputId": "bde34805-b53b-4554-b825-ed1e164fd3dd"
      },
      "execution_count": null,
      "outputs": [
        {
          "output_type": "stream",
          "name": "stdout",
          "text": [
            "MAE 0.21175455582115285 MSE 0.062204133489760075 RMSE 0.24940756502111172 AIC 8.659333098840806 BIC 27.06019614392614\n"
          ]
        }
      ]
    },
    {
      "cell_type": "code",
      "source": [
        "\n",
        "model8=ARIMA(df_model['Price_Cbrt_Log'].dropna(),order=(2,0,1))\n",
        "model8=model8.fit()\n",
        "forecast_steps=365\n",
        "predictions=model8.forecast(steps=forecast_steps)\n",
        "future_dates = pd.date_range(start='2025-01-01', periods=forecast_steps, freq='D')\n",
        "predicted_prices = []\n",
        "for pred in predictions.values:\n",
        "    t = (np.exp(pred))**3\n",
        "    predicted_prices.append(t)\n",
        "plt.plot(df_model.index, df_model['Price'], label='Actual Data',color=\"black\")\n",
        "plt.plot(future_dates, predicted_prices, label='Predictions',color=\"red\")\n",
        "plt.xticks(rotation=45)\n",
        "plt.xlabel(\"Date\")\n",
        "plt.ylabel(\"Price\")\n",
        "plt.legend()\n",
        "plt.show()"
      ],
      "metadata": {
        "colab": {
          "base_uri": "https://localhost:8080/",
          "height": 625
        },
        "id": "Jr3ucPwXA606",
        "outputId": "1c1fd39c-4b84-4ee4-870b-3d1ece281eb7"
      },
      "execution_count": null,
      "outputs": [
        {
          "output_type": "stream",
          "name": "stderr",
          "text": [
            "/usr/local/lib/python3.10/dist-packages/statsmodels/tsa/base/tsa_model.py:473: ValueWarning: No frequency information was provided, so inferred frequency D will be used.\n",
            "  self._init_dates(dates, freq)\n",
            "/usr/local/lib/python3.10/dist-packages/statsmodels/tsa/base/tsa_model.py:473: ValueWarning: No frequency information was provided, so inferred frequency D will be used.\n",
            "  self._init_dates(dates, freq)\n",
            "/usr/local/lib/python3.10/dist-packages/statsmodels/tsa/base/tsa_model.py:473: ValueWarning: No frequency information was provided, so inferred frequency D will be used.\n",
            "  self._init_dates(dates, freq)\n"
          ]
        },
        {
          "output_type": "display_data",
          "data": {
            "text/plain": [
              "<Figure size 640x480 with 1 Axes>"
            ],
            "image/png": "[encoded data removed]"
          },
          "metadata": {}
        }
      ]
    },
    {
      "cell_type": "code",
      "source": [
        "predicted_prices[0:2]"
      ],
      "metadata": {
        "colab": {
          "base_uri": "https://localhost:8080/"
        },
        "id": "dyzsPJ2sBN2p",
        "outputId": "9a3bc15b-455c-413d-865f-7832864fd65e"
      },
      "execution_count": null,
      "outputs": [
        {
          "output_type": "execute_result",
          "data": {
            "text/plain": [
              "[4017568.220106752, 3786620.373598059]"
            ]
          },
          "metadata": {},
          "execution_count": 696
        }
      ]
    },
    {
      "cell_type": "markdown",
      "source": [
        "**Model 1**\n",
        "\n",
        "* MAE 2752510.98627338\n",
        "* MSE 12211050709814.648\n",
        "* RMSE 3494431.385764306  \n",
        "* AIC 9611.623076602289\n",
        "* BIC 9637.38428486541\n",
        "\n",
        "**Model 2**\n",
        "\n",
        "* MAE 0.6374449266057829\n",
        "* MSE 0.5694752003212992\n",
        "* RMSE 0.7546358064134641\n",
        "* AIC 659.5845636205911\n",
        "* BIC 685.3457718837105\n",
        "\n",
        "**Model 3**\n",
        "\n",
        "* MAE 580.2098284490377\n",
        "* MSE 474569.30278608226\n",
        "* RMSE 688.8899061432692  \n",
        "* AIC 4670.348703884327\n",
        "* BIC 4692.429739538429\n",
        "\n",
        "**Model 4**\n",
        "\n",
        "* MAE 31.286685104800124\n",
        "* MSE 1373.0370685922385\n",
        "* RMSE 37.05451482062933\n",
        "* AIC 2950.9871788073215\n",
        "* BIC 2965.7078692433897\n",
        "\n",
        "**Model 5**\n",
        "\n",
        "* MAE 0.0823610921040946\n",
        "* MSE 0.00938818369438369\n",
        "* RMSE 0.0968926400423876  \n",
        "* AIC -544.1589447356703\n",
        "* BIC -522.0779090815679\n",
        "\n",
        "**Model 6**\n",
        "\n",
        "* MAE 0.03481792208568237\n",
        "* MSE 0.0017045219078205842\n",
        "* RMSE 0.04128585602625413  \n",
        "* AIC -1043.362205493831\n",
        "* BIC -1028.6415150577627\n",
        "\n",
        "**Model 7**\n",
        "\n",
        "* MAE 0.3187230043885897\n",
        "* MSE 0.14236849942308455\n",
        "* RMSE 0.3773175047928264\n",
        "* AIC 253.40031590318233\n",
        "* BIC 279.1615241663018\n",
        "\n",
        "**Model 8**\n",
        "\n",
        "* MAE 0.21175455582115285\n",
        "* MSE 0.062204133489760075\n",
        "* RMSE 0.24940756502111172\n",
        "* AIC 8.659333098840806\n",
        "* BIC 27.06019614392614"
      ],
      "metadata": {
        "id": "TSFEv1cj6pG7"
      }
    },
    {
      "cell_type": "markdown",
      "source": [
        "Model 6 is the best performing model"
      ],
      "metadata": {
        "id": "fDnnKnGx65Yt"
      }
    }
  ]
}